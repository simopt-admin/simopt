{
 "cells": [
  {
   "cell_type": "markdown",
   "id": "2b76c8a5-c6f5-4c63-bef1-413045dc454f",
   "metadata": {},
   "source": [
    "This script is intended to reproduce plots from Felice et. al. (2025) Diagnostic Tools for Evaluating Solvers for Stochastically Constrained Simulation Optimization Problems please ensure you have followed the download directions found here https://github.com/nicolefelice/stochastic_constraint_tools/blob/stoch_constraints/README.md before running. "
   ]
  },
  {
   "cell_type": "code",
   "execution_count": 1,
   "id": "2ab33f02-0070-49c0-ab1f-907d26af1080",
   "metadata": {},
   "outputs": [],
   "source": [
    "# Import the ProblemSolver class and other useful functions\n",
    "from simopt.experiment_base import (\n",
    "    ProblemSolver,\n",
    "    post_normalize,\n",
    "    plot_progress_curves,\n",
    "    plot_solvability_cdfs,\n",
    "    plot_feasibility,\n",
    "    ProblemsSolvers,\n",
    "    plot_terminal_progress,\n",
    "    plot_feasibility_progress\n",
    "\n",
    ")"
   ]
  },
  {
   "cell_type": "code",
   "execution_count": 2,
   "id": "c9c8d14c-2712-4290-a6f9-e3e360db71bd",
   "metadata": {
    "scrolled": true
   },
   "outputs": [],
   "source": [
    "from simopt.models.san import SANLongestPathStochastic\n",
    "from simopt.solvers.fcsa import FCSA"
   ]
  },
  {
   "cell_type": "code",
   "execution_count": 3,
   "id": "3795eb6b-be3f-4192-a218-624f26eb5514",
   "metadata": {},
   "outputs": [],
   "source": [
    "# initialize problem\n",
    "initial = (5,)*13 # starting mean for each arc\n",
    "constraint_nodes = [6,8] #nodes with corresponding stochastic constraints\n",
    "max_length_to_node = [5, 5] # max expected length to each constraint node\n",
    "budget = 10000 # number of simmulation replications ran by solver\n",
    "problem_factors = {\"constraint_nodes\": constraint_nodes,\n",
    "                   \"length_to_node_constraint\": max_length_to_node,\n",
    "                    \"initial_solution\": initial, \n",
    "                   \"budget\": budget\n",
    "}\n",
    "problem = SANLongestPathStochastic(fixed_factors=problem_factors)\n",
    "problems = [problem]"
   ]
  },
  {
   "cell_type": "code",
   "execution_count": 4,
   "id": "30a2d9ec-785e-44d8-90a6-c68f4759e8e3",
   "metadata": {},
   "outputs": [],
   "source": [
    "# initialize solvers\n",
    "csa_factors = {\"search_direction\": \"CSA\",\n",
    "               \"normalize_grads\": False,\n",
    "               \"report_all_solns\": True,\n",
    "               \"crn_across_solns\": False,\n",
    "}\n",
    "csa = FCSA(fixed_factors=csa_factors, name=\"CSA\")\n",
    "csa_n_factors = {\"search_direction\": \"CSA\",\n",
    "               \"normalize_grads\": True,\n",
    "               \"report_all_solns\": True,\n",
    "               \"crn_across_solns\": False,\n",
    "}\n",
    "csa_n = FCSA(fixed_factors=csa_n_factors, name=\"CSA-N\")\n",
    "fcsa_factors = {\"search_direction\": \"FCSA\",\n",
    "               \"normalize_grads\": True,\n",
    "               \"report_all_solns\": True,\n",
    "               \"crn_across_solns\": False,\n",
    "}\n",
    "fcsa = FCSA(fixed_factors=fcsa_factors, name = \"FCSA\")\n",
    "solvers = [csa, csa_n, fcsa]"
   ]
  },
  {
   "cell_type": "code",
   "execution_count": 5,
   "id": "5f699a65-c580-4ef4-8a0e-09f60d0898ff",
   "metadata": {},
   "outputs": [],
   "source": [
    "#initialize experiment\n",
    "myexperiment = ProblemsSolvers(solvers=solvers, problems=problems)"
   ]
  },
  {
   "cell_type": "code",
   "execution_count": 6,
   "id": "c9bc3957-ee5c-4c56-9ba0-0acffaa7a5df",
   "metadata": {
    "scrolled": true
   },
   "outputs": [
    {
     "name": "stdout",
     "output_type": "stream",
     "text": [
      "Running 10 macro-replications of CSA on SAN-2.\n",
      "Running Solver CSA on Problem SAN-2.\n",
      "Starting macroreplications in parallel\n",
      "Finished running 10 macroreplications in 23.121 seconds.\n",
      "File Name: CSA_on_SAN-2.pickle\n",
      "Folder Name: C:\\Users\\nikki\\GitHub\\simopt\\experiments\\2025-10-09_10-51-25\n",
      "File Path: C:\\Users\\nikki\\GitHub\\simopt\\experiments\\2025-10-09_10-51-25\\CSA_on_SAN-2.pickle\n",
      "Running 10 macro-replications of CSA-N on SAN-2.\n",
      "Running Solver CSA-N on Problem SAN-2.\n",
      "Starting macroreplications in parallel\n",
      "Finished running 10 macroreplications in 23.661 seconds.\n",
      "File Name: CSA-N_on_SAN-2.pickle\n",
      "Folder Name: C:\\Users\\nikki\\GitHub\\simopt\\experiments\\2025-10-09_10-51-25\n",
      "File Path: C:\\Users\\nikki\\GitHub\\simopt\\experiments\\2025-10-09_10-51-25\\CSA-N_on_SAN-2.pickle\n",
      "Running 10 macro-replications of FCSA on SAN-2.\n",
      "Running Solver FCSA on Problem SAN-2.\n",
      "Starting macroreplications in parallel\n",
      "Finished running 10 macroreplications in 28.856 seconds.\n",
      "File Name: FCSA_on_SAN-2.pickle\n",
      "Folder Name: C:\\Users\\nikki\\GitHub\\simopt\\experiments\\2025-10-09_10-51-25\n",
      "File Path: C:\\Users\\nikki\\GitHub\\simopt\\experiments\\2025-10-09_10-51-25\\FCSA_on_SAN-2.pickle\n"
     ]
    }
   ],
   "source": [
    "# Run a fixed number of macroreplications of the solver on the problem.\n",
    "myexperiment.run(n_macroreps=10)"
   ]
  },
  {
   "cell_type": "code",
   "execution_count": 7,
   "id": "3e63e4d5-4856-492a-bdf8-6a27d8705f77",
   "metadata": {
    "scrolled": true
   },
   "outputs": [
    {
     "name": "stdout",
     "output_type": "stream",
     "text": [
      "Post-processing CSA on SAN-2.\n",
      "Setting up 100 postreplications for 10 macroreplications of CSA on SAN-2.\n",
      "Starting postreplications in parallel\n",
      "Finished running 10 postreplications in 23.752 seconds.\n",
      "File Name: CSA_on_SAN-2.pickle\n",
      "Folder Name: C:\\Users\\nikki\\GitHub\\simopt\\experiments\\2025-10-09_10-51-25\n",
      "File Path: C:\\Users\\nikki\\GitHub\\simopt\\experiments\\2025-10-09_10-51-25\\CSA_on_SAN-2.pickle\n",
      "Post-processing CSA-N on SAN-2.\n",
      "Setting up 100 postreplications for 10 macroreplications of CSA-N on SAN-2.\n",
      "Starting postreplications in parallel\n",
      "Finished running 10 postreplications in 25.65 seconds.\n",
      "File Name: CSA-N_on_SAN-2.pickle\n",
      "Folder Name: C:\\Users\\nikki\\GitHub\\simopt\\experiments\\2025-10-09_10-51-25\n",
      "File Path: C:\\Users\\nikki\\GitHub\\simopt\\experiments\\2025-10-09_10-51-25\\CSA-N_on_SAN-2.pickle\n",
      "Post-processing FCSA on SAN-2.\n",
      "Setting up 100 postreplications for 10 macroreplications of FCSA on SAN-2.\n",
      "Starting postreplications in parallel\n",
      "Finished running 10 postreplications in 24.29 seconds.\n",
      "File Name: FCSA_on_SAN-2.pickle\n",
      "Folder Name: C:\\Users\\nikki\\GitHub\\simopt\\experiments\\2025-10-09_10-51-25\n",
      "File Path: C:\\Users\\nikki\\GitHub\\simopt\\experiments\\2025-10-09_10-51-25\\FCSA_on_SAN-2.pickle\n"
     ]
    }
   ],
   "source": [
    "# Run a fixed number of postreplications at all recommended solutions.\n",
    "myexperiment.post_replicate(n_postreps=100)"
   ]
  },
  {
   "cell_type": "code",
   "execution_count": 8,
   "id": "a558445c-d23f-47d4-8261-6dfcbe2b3a08",
   "metadata": {},
   "outputs": [
    {
     "name": "stdout",
     "output_type": "stream",
     "text": [
      "Postnormalizing on Problem SAN-2.\n",
      "Finding f(x*)...\n",
      "\t...using best postreplicated solution as proxy for x*.\n"
     ]
    }
   ],
   "source": [
    "# Find an optimal solution x* for normalization.\n",
    "myexperiment.post_normalize(100)"
   ]
  },
  {
   "cell_type": "code",
   "execution_count": 9,
   "id": "2cea56bc-365c-49f1-9f4f-c15a45e1fde9",
   "metadata": {},
   "outputs": [
    {
     "data": {
      "text/plain": [
       "['C:\\\\Users\\\\nikki\\\\GitHub\\\\simopt\\\\experiments\\\\2025-10-09_10-51-25\\\\plots\\\\SOLVER_SET_on_SAN-2_terminal_violin_unnorm.png']"
      ]
     },
     "execution_count": 9,
     "metadata": {},
     "output_type": "execute_result"
    },
    {
     "data": {
      "image/png": "[encoded data removed]",
      "text/plain": [
       "<Figure size 640x480 with 1 Axes>"
      ]
     },
     "metadata": {},
     "output_type": "display_data"
    }
   ],
   "source": [
    "# Plot Figure 2\n",
    "plot_experiments = myexperiment.experiments[0]\n",
    "# plot Fig 2 a terminal objective density violin plot for csa\n",
    "plot_terminal_progress(plot_experiments, \"violin\", plot_optimal = True, normalize=False)"
   ]
  },
  {
   "cell_type": "code",
   "execution_count": null,
   "id": "df22deb8-97c8-4fc6-8eb3-54f42147110f",
   "metadata": {},
   "outputs": [],
   "source": [
    "# plot Fig 2 b terminal objective density violin plot for csa\n",
    "plot_feasibility([plot_experiments], \"violin\",  all_in_one=True, two_sided=True)"
   ]
  },
  {
   "cell_type": "code",
   "execution_count": null,
   "id": "5bbd05c7-8e8a-441d-8187-525202ed49eb",
   "metadata": {},
   "outputs": [],
   "source": [
    "# plot Figure 3\n",
    "# plot Fig 3 a csa objective progress\n",
    "plot_progress_curves(plot_experiments, \"all\", normalize=False)"
   ]
  },
  {
   "cell_type": "code",
   "execution_count": null,
   "id": "e8a7c43c-24a9-4420-958e-ac279def6456",
   "metadata": {},
   "outputs": [],
   "source": [
    "# plot Fig 3 a csa feasibility progress\n",
    "plot_feasibility_progress([plot_experiments], \"all\", print_max_hw=False)"
   ]
  },
  {
   "cell_type": "code",
   "execution_count": null,
   "id": "24bb9c67-1b3a-4e37-bb19-6d36bd28c8cc",
   "metadata": {},
   "outputs": [],
   "source": [
    "# Plot Figure 4\n",
    "plot_experiments = myexperiment.experiments[1]+myexperiment.experiments[2]\n",
    "# plot Fig 4 a objective progress for csa-n and fcsa\n",
    "plot_progress_curves(plot_experiments, \"all\", normalize=False)"
   ]
  },
  {
   "cell_type": "code",
   "execution_count": null,
   "id": "26d44fa0-2656-44ea-9b17-932413c0ac30",
   "metadata": {},
   "outputs": [],
   "source": [
    "#plot Fig $ b feasibility progress for csa-n and fcsa\n",
    "plot_feasibility_progress(myexperiment.experiments[1:3], \"all\", print_max_hw=False)"
   ]
  },
  {
   "cell_type": "code",
   "execution_count": null,
   "id": "1ab5d222-bb2d-49d1-9754-57bebfc2b1f8",
   "metadata": {},
   "outputs": [],
   "source": [
    "# run experiments for reccomended solutions only for csa-n and fcsa\n",
    "csa_n_factors = {\"search_direction\": \"CSA\",\n",
    "               \"normalize_grads\": True,\n",
    "               \"report_all_solns\": False,\n",
    "               \"crn_across_solns\": False,\n",
    "}\n",
    "csa_n = FCSA(fixed_factors=csa_n_factors, name=\"CSA-N\")\n",
    "fcsa_factors = {\"search_direction\": \"FCSA\",\n",
    "               \"normalize_grads\": True,\n",
    "               \"report_all_solns\": False,\n",
    "               \"crn_across_solns\": False,\n",
    "}\n",
    "fcsa = FCSA(fixed_factors=fcsa_factors, name = \"FCSA\")\n",
    "solvers = [csa_n, fcsa]"
   ]
  },
  {
   "cell_type": "code",
   "execution_count": null,
   "id": "617b70e3-a9a4-4030-9a0c-1328cda2a0f5",
   "metadata": {},
   "outputs": [],
   "source": [
    "#initialize experiment\n",
    "myexperiment = ProblemsSolvers(solvers=solvers, problems=problems)"
   ]
  },
  {
   "cell_type": "code",
   "execution_count": null,
   "id": "8c4a83ac-8fcc-47aa-b82a-249703217f2c",
   "metadata": {},
   "outputs": [],
   "source": [
    "# Run a fixed number of macroreplications of the solver on the problem.\n",
    "myexperiment.run(n_macroreps=10)"
   ]
  },
  {
   "cell_type": "code",
   "execution_count": null,
   "id": "fbdc154b-2642-423a-abea-349e2739ef1b",
   "metadata": {},
   "outputs": [],
   "source": [
    "# Run a fixed number of postreplications at all recommended solutions.\n",
    "myexperiment.post_replicate(n_postreps=100)"
   ]
  },
  {
   "cell_type": "code",
   "execution_count": null,
   "id": "9d27ee5b-dad2-4ed4-8d2e-1cb639304c10",
   "metadata": {},
   "outputs": [],
   "source": [
    "# Find an optimal solution x* for normalization.\n",
    "myexperiment.post_normalize(100)"
   ]
  },
  {
   "cell_type": "code",
   "execution_count": null,
   "id": "5c96384e-80ba-4b7a-9324-f2e25a818704",
   "metadata": {},
   "outputs": [],
   "source": [
    "# plot Figure 5\n",
    "plot_feasibility(myexperiment.experiments)"
   ]
  }
 ],
 "metadata": {
  "kernelspec": {
   "display_name": "Python 3 (ipykernel)",
   "language": "python",
   "name": "python3"
  },
  "language_info": {
   "codemirror_mode": {
    "name": "ipython",
    "version": 3
   },
   "file_extension": ".py",
   "mimetype": "text/x-python",
   "name": "python",
   "nbconvert_exporter": "python",
   "pygments_lexer": "ipython3",
   "version": "3.13.5"
  }
 },
 "nbformat": 4,
 "nbformat_minor": 5
}
