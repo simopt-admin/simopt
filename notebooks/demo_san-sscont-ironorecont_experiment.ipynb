{
 "cells": [
  {
   "cell_type": "markdown",
   "id": "0",
   "metadata": {},
   "source": [
    "# Demo for an Experiment with SAN, SSCONT, and IRONORECONT problems.\n",
    "\n",
    "This script is intended to help with a large experiment with\n",
    "5 solvers (two versions of random search, ASTRO-DF, STRONG, and Nelder-Mead)\n",
    "and 60 problems (20 unique instances of problems from (s, S) inventory,\n",
    "iron ore, and stochastic activity network).\n",
    "Produces plots appearing in the INFORMS Journal on Computing submission."
   ]
  },
  {
   "cell_type": "markdown",
   "id": "1",
   "metadata": {},
   "source": [
    "## Append SimOpt Path\n",
    "\n",
    "Since the notebook is stored in simopt/notebooks, we need to append the\n",
    "parent simopt directory to the system path to import the necessary modules\n",
    "later on."
   ]
  },
  {
   "cell_type": "code",
   "execution_count": null,
   "id": "2",
   "metadata": {},
   "outputs": [],
   "source": [
    "import sys\n",
    "from pathlib import Path\n",
    "\n",
    "# Take the current directory, find the parent, and add it to the system path\n",
    "sys.path.append(str(Path.cwd().parent))\n",
    "\n",
    "from simopt.experiment_base import (\n",
    "    PlotType,\n",
    "    plot_area_scatterplots,\n",
    "    plot_progress_curves,\n",
    "    plot_solvability_cdfs,\n",
    "    plot_solvability_profiles,\n",
    "    plot_terminal_progress,\n",
    "    plot_terminal_scatterplots,\n",
    ")\n",
    "from simopt.experimental import group_experiments_by_solver, run_experiment"
   ]
  },
  {
   "cell_type": "markdown",
   "id": "3",
   "metadata": {},
   "source": [
    "## Experiment Configuration Parameters\n",
    "\n",
    "Define the options used in the experiments."
   ]
  },
  {
   "cell_type": "code",
   "execution_count": null,
   "id": "4",
   "metadata": {
    "lines_to_next_cell": 2
   },
   "outputs": [],
   "source": [
    "# Experiment Configuration\n",
    "num_macroreps = 10\n",
    "num_postreps = 100\n",
    "num_postnorms = 200"
   ]
  },
  {
   "cell_type": "markdown",
   "id": "8",
   "metadata": {},
   "source": [
    "## Problem/Solver Configuration Parameters\n",
    "\n",
    "Define the problems and solvers used in the experiments."
   ]
  },
  {
   "cell_type": "code",
   "execution_count": null,
   "id": "9",
   "metadata": {},
   "outputs": [],
   "source": [
    "# Solvers to use in the experiment.\n",
    "# Includes two versions of random search with varying sample sizes.\n",
    "# The rename will be used in the plots to differentiate them.\n",
    "solvers = [\n",
    "    {\n",
    "        \"name\": \"RNDSRCH\",\n",
    "        \"rename\": \"RNDSRCH_ss=10\",\n",
    "        \"fixed_factors\": {\"sample_size\": 10},\n",
    "    },\n",
    "    {\n",
    "        \"name\": \"RNDSRCH\",\n",
    "        \"rename\": \"RNDSRCH_ss=50\",\n",
    "        \"fixed_factors\": {\"sample_size\": 50},\n",
    "    },\n",
    "    {\"name\": \"ASTRODF\"},\n",
    "    {\"name\": \"NELDMD\"},\n",
    "    {\"name\": \"STRONG\"},\n",
    "]"
   ]
  },
  {
   "cell_type": "code",
   "execution_count": null,
   "id": "10",
   "metadata": {},
   "outputs": [],
   "source": [
    "# Problem 1 - SAN\n",
    "# Configure the problem\n",
    "all_random_costs = [\n",
    "    (1, 2, 2, 7, 17, 7, 2, 13, 1, 9, 18, 16, 7),\n",
    "    (2, 1, 10, 13, 15, 13, 12, 9, 12, 15, 5, 8, 10),\n",
    "    (2, 6, 7, 11, 13, 5, 1, 2, 2, 3, 15, 16, 13),\n",
    "    (3, 4, 18, 8, 10, 17, 14, 19, 15, 15, 7, 10, 6),\n",
    "    (3, 6, 9, 15, 1, 19, 1, 13, 2, 19, 6, 7, 14),\n",
    "    (4, 4, 2, 4, 5, 3, 19, 4, 17, 5, 16, 8, 8),\n",
    "    (5, 14, 14, 7, 10, 14, 16, 16, 8, 7, 14, 11, 17),\n",
    "    (7, 9, 17, 19, 1, 7, 4, 3, 9, 9, 13, 17, 14),\n",
    "    (8, 14, 1, 10, 18, 10, 17, 1, 2, 11, 1, 16, 6),\n",
    "    (8, 17, 5, 17, 4, 14, 2, 5, 5, 5, 8, 8, 16),\n",
    "    (10, 3, 2, 7, 15, 12, 7, 9, 12, 17, 9, 1, 2),\n",
    "    (10, 5, 17, 12, 13, 14, 6, 5, 19, 17, 1, 7, 17),\n",
    "    (10, 16, 10, 13, 9, 1, 1, 16, 5, 7, 7, 12, 15),\n",
    "    (11, 5, 15, 13, 15, 17, 12, 12, 16, 11, 18, 19, 2),\n",
    "    (12, 11, 13, 4, 15, 11, 16, 2, 7, 7, 13, 8, 3),\n",
    "    (13, 3, 14, 2, 15, 18, 17, 13, 5, 17, 17, 5, 18),\n",
    "    (14, 8, 8, 14, 8, 8, 18, 16, 8, 18, 12, 6, 7),\n",
    "    (14, 18, 7, 8, 13, 17, 10, 17, 19, 1, 13, 6, 12),\n",
    "    (15, 1, 2, 6, 14, 18, 11, 19, 15, 18, 15, 1, 4),\n",
    "    (18, 4, 19, 2, 13, 11, 9, 2, 17, 18, 11, 7, 14),\n",
    "]\n",
    "num_problems = len(all_random_costs)\n",
    "\n",
    "# Create all the problem variants.\n",
    "SAN_problems = [\n",
    "    {\n",
    "        \"name\": \"SAN-1\",\n",
    "        \"rename\": f\"SAN-1_rc={costs}\",\n",
    "        \"fixed_factors\": {\"budget\": 10000, \"arc_costs\": costs},\n",
    "    }\n",
    "    for costs in all_random_costs\n",
    "]\n",
    "\n",
    "# Run the experiment for SAN problems.\n",
    "SAN_experiments = run_experiment(\n",
    "    SAN_problems, solvers, num_macroreps, num_postreps, num_postnorms\n",
    ")"
   ]
  },
  {
   "cell_type": "code",
   "execution_count": null,
   "id": "11",
   "metadata": {},
   "outputs": [],
   "source": [
    "# Problem 2 - SSCONT\n",
    "# Configure the problem\n",
    "demand_means = [25.0, 50.0, 100.0, 200.0, 400.0]\n",
    "lead_means = [1.0, 3.0, 6.0, 9.0]\n",
    "\n",
    "# Create all the problem variants.\n",
    "SSCONT_problems = [\n",
    "    {\n",
    "        \"name\": \"SSCONT-1\",\n",
    "        \"rename\": f\"SSCONT-1_dm={dm}_lm={lm}\",\n",
    "        \"fixed_factors\": {\"budget\": 1000},\n",
    "        \"model_fixed_factors\": {\n",
    "            \"demand_mean\": dm,\n",
    "            \"lead_mean\": lm,\n",
    "        },\n",
    "    }\n",
    "    for dm in demand_means\n",
    "    for lm in lead_means\n",
    "]\n",
    "\n",
    "# Run the experiment for SSCONT problems.\n",
    "SSCONT_experiments = run_experiment(\n",
    "    SSCONT_problems, solvers, num_macroreps, num_postreps, num_postnorms\n",
    ")"
   ]
  },
  {
   "cell_type": "code",
   "execution_count": null,
   "id": "12",
   "metadata": {},
   "outputs": [],
   "source": [
    "# Problem 3 - IRONORECONT\n",
    "# Configure the problem\n",
    "st_devs = [1, 2, 3, 4, 5]\n",
    "holding_costs = [1, 100]\n",
    "inven_stops = [1000, 10000]\n",
    "\n",
    "# Create all the problem variants.\n",
    "IRONORECONT_problems = [\n",
    "    {\n",
    "        \"name\": \"IRONORECONT-1\",\n",
    "        \"rename\": f\"IRONORECONT-1_sd={sd}_hc={hc}_inv={inv}\",\n",
    "        \"fixed_factors\": {\"budget\": 1000},\n",
    "        \"model_fixed_factors\": {\n",
    "            \"st_dev\": sd,\n",
    "            \"holding_cost\": hc,\n",
    "            \"inven_stop\": inv,\n",
    "        },\n",
    "    }\n",
    "    for sd in st_devs\n",
    "    for hc in holding_costs\n",
    "    for inv in inven_stops\n",
    "]\n",
    "\n",
    "# Run the experiment for IRONORECONT problems.\n",
    "IRONORECONT_experiments = run_experiment(\n",
    "    IRONORECONT_problems, solvers, num_macroreps, num_postreps, num_postnorms\n",
    ")"
   ]
  },
  {
   "cell_type": "code",
   "execution_count": null,
   "id": "13",
   "metadata": {
    "lines_to_next_cell": 2
   },
   "outputs": [],
   "source": [
    "# Combine the experiments into a list of lists, where the outer list\n",
    "# contains all the experiments for a single solver, and the inner lists\n",
    "# contain the ProblemSolver instances associated with that solver.\n",
    "all_experiments = []\n",
    "all_experiments.extend(SAN_experiments)\n",
    "all_experiments.extend(SSCONT_experiments)\n",
    "all_experiments.extend(IRONORECONT_experiments)\n",
    "experiments = group_experiments_by_solver(all_experiments)"
   ]
  },
  {
   "cell_type": "markdown",
   "id": "14",
   "metadata": {},
   "source": [
    "## Plotting Settings\n",
    "\n",
    "Define the plotting settings for the experiments."
   ]
  },
  {
   "cell_type": "code",
   "execution_count": null,
   "id": "15",
   "metadata": {},
   "outputs": [],
   "source": [
    "enable_confidence_intervals = True\n",
    "alpha = 0.2"
   ]
  },
  {
   "cell_type": "code",
   "execution_count": null,
   "id": "16",
   "metadata": {},
   "outputs": [],
   "source": [
    "plot_solvability_profiles(\n",
    "    experiments,\n",
    "    plot_type=PlotType.CDF_SOLVABILITY,\n",
    "    solve_tol=alpha,\n",
    "    all_in_one=True,\n",
    "    plot_conf_ints=enable_confidence_intervals,\n",
    "    print_max_hw=enable_confidence_intervals,\n",
    ")"
   ]
  },
  {
   "cell_type": "code",
   "execution_count": null,
   "id": "17",
   "metadata": {},
   "outputs": [],
   "source": [
    "plot_solvability_profiles(\n",
    "    experiments,\n",
    "    plot_type=PlotType.QUANTILE_SOLVABILITY,\n",
    "    solve_tol=alpha,\n",
    "    beta=0.5,\n",
    "    all_in_one=True,\n",
    "    plot_conf_ints=enable_confidence_intervals,\n",
    "    print_max_hw=enable_confidence_intervals,\n",
    ")"
   ]
  },
  {
   "cell_type": "code",
   "execution_count": null,
   "id": "18",
   "metadata": {},
   "outputs": [],
   "source": [
    "plot_solvability_profiles(\n",
    "    experiments=experiments,\n",
    "    plot_type=PlotType.DIFFERENCE_OF_CDF_SOLVABILITY,\n",
    "    solve_tol=alpha,\n",
    "    ref_solver=\"ASTRODF\",\n",
    "    all_in_one=True,\n",
    "    plot_conf_ints=enable_confidence_intervals,\n",
    "    print_max_hw=enable_confidence_intervals,\n",
    ")"
   ]
  },
  {
   "cell_type": "code",
   "execution_count": null,
   "id": "19",
   "metadata": {},
   "outputs": [],
   "source": [
    "plot_solvability_profiles(\n",
    "    experiments=experiments,\n",
    "    plot_type=PlotType.DIFFERENCE_OF_QUANTILE_SOLVABILITY,\n",
    "    solve_tol=alpha,\n",
    "    beta=0.5,\n",
    "    ref_solver=\"ASTRODF\",\n",
    "    all_in_one=True,\n",
    "    plot_conf_ints=enable_confidence_intervals,\n",
    "    print_max_hw=enable_confidence_intervals,\n",
    ")"
   ]
  },
  {
   "cell_type": "code",
   "execution_count": null,
   "id": "20",
   "metadata": {},
   "outputs": [],
   "source": [
    "plot_area_scatterplots(\n",
    "    experiments,\n",
    "    all_in_one=True,\n",
    "    plot_conf_ints=enable_confidence_intervals,\n",
    "    print_max_hw=enable_confidence_intervals,\n",
    ")"
   ]
  },
  {
   "cell_type": "code",
   "execution_count": null,
   "id": "21",
   "metadata": {},
   "outputs": [],
   "source": [
    "plot_terminal_scatterplots(experiments, all_in_one=True)"
   ]
  },
  {
   "cell_type": "code",
   "execution_count": null,
   "id": "22",
   "metadata": {},
   "outputs": [],
   "source": [
    "n_solvers = len(solvers)\n",
    "\n",
    "for i in range(len(experiments[0])):\n",
    "    plot_progress_curves(\n",
    "        [experiments[solver_idx][i] for solver_idx in range(n_solvers)],\n",
    "        plot_type=PlotType.MEAN,\n",
    "        all_in_one=True,\n",
    "        plot_conf_ints=enable_confidence_intervals,\n",
    "        print_max_hw=True,\n",
    "    )\n",
    "    plot_terminal_progress(\n",
    "        [experiments[solver_idx][i] for solver_idx in range(n_solvers)],\n",
    "        plot_type=PlotType.VIOLIN,\n",
    "        normalize=True,\n",
    "        all_in_one=True,\n",
    "    )\n",
    "    # plot_solvability_cdfs(\n",
    "    #     [experiments[solver_idx][i] for solver_idx in range(n_solvers)],\n",
    "    #     solve_tol=0.2,\n",
    "    #     all_in_one=True,\n",
    "    #     plot_CIs=True,\n",
    "    #     print_max_hw=True,\n",
    "    # )"
   ]
  },
  {
   "cell_type": "code",
   "execution_count": null,
   "id": "23",
   "metadata": {},
   "outputs": [],
   "source": [
    "# Plots for mu_D = 400 and mu_L = 6 (appreared in the paper)\n",
    "plot_progress_curves(\n",
    "    [experiments[solver_idx][0] for solver_idx in range(n_solvers)],\n",
    "    plot_type=PlotType.ALL,\n",
    "    all_in_one=True,\n",
    ")\n",
    "\n",
    "plot_progress_curves(\n",
    "    [experiments[solver_idx][0] for solver_idx in range(3, 4)],\n",
    "    plot_type=PlotType.ALL,\n",
    "    all_in_one=True,\n",
    "    normalize=False,\n",
    ")\n",
    "\n",
    "plot_progress_curves(\n",
    "    [experiments[solver_idx][0] for solver_idx in range(n_solvers)],\n",
    "    plot_type=PlotType.ALL,\n",
    "    all_in_one=True,\n",
    "    plot_conf_ints=True,\n",
    "    print_max_hw=False,\n",
    "    normalize=True,\n",
    ")\n",
    "\n",
    "plot_solvability_cdfs(\n",
    "    experiments=[experiments[solver_idx][0] for solver_idx in range(n_solvers)],\n",
    "    solve_tol=0.2,\n",
    "    all_in_one=True,\n",
    "    plot_conf_ints=True,\n",
    "    print_max_hw=False,\n",
    ")\n",
    "\n",
    "plot_terminal_progress(\n",
    "    [experiments[solver_idx][0] for solver_idx in range(n_solvers)],\n",
    "    plot_type=PlotType.VIOLIN,\n",
    "    normalize=False,\n",
    "    all_in_one=True,\n",
    ")"
   ]
  }
 ],
 "metadata": {
  "jupytext": {
   "formats": "ipynb,py:percent"
  },
  "kernelspec": {
   "display_name": "Python 3 (ipykernel)",
   "language": "python",
   "name": "python3"
  },
  "language_info": {
   "codemirror_mode": {
    "name": "ipython",
    "version": 3
   },
   "file_extension": ".py",
   "mimetype": "text/x-python",
   "name": "python",
   "nbconvert_exporter": "python",
   "pygments_lexer": "ipython3",
   "version": "3.13.6"
  }
 },
 "nbformat": 4,
 "nbformat_minor": 5
}
