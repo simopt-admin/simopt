{
 "cells": [
  {
   "cell_type": "markdown",
   "id": "0",
   "metadata": {},
   "source": [
    "# Demo for Data Farming over Solvers.\n",
    "\n",
    "This script is intended to help with running a data-farming experiment on a solver.\n",
    "\n",
    "It creates a design of solver factors and runs multiple macroreplications at each version of the solver.\n",
    "\n",
    "Outputs are printed to a file."
   ]
  },
  {
   "cell_type": "markdown",
   "id": "1",
   "metadata": {},
   "source": [
    "## Append SimOpt Path\n",
    "\n",
    "Since the notebook is stored in simopt/notebooks, we need to append the parent simopt directory to the system path to import the necessary modules later on."
   ]
  },
  {
   "cell_type": "code",
   "execution_count": null,
   "id": "2",
   "metadata": {},
   "outputs": [],
   "source": [
    "import sys\n",
    "from pathlib import Path\n",
    "\n",
    "# Take the current directory, find the parent, and add it to the system path\n",
    "sys.path.append(str(Path.cwd().parent))"
   ]
  },
  {
   "cell_type": "markdown",
   "id": "3",
   "metadata": {},
   "source": [
    "## Solver Configuration Parameters\n",
    "\n",
    "To query model/problem/solver names, run `python scripts/list_directories.py`"
   ]
  },
  {
   "cell_type": "code",
   "execution_count": null,
   "id": "4",
   "metadata": {},
   "outputs": [],
   "source": [
    "# Abbreviated name of the solver\n",
    "solver_abbr_name = \"ASTRODF\"\n",
    "\n",
    "# Name of each factor being data farmed\n",
    "solver_factor_headers = [\"eta_1\", \"eta_2\", \"lambda_min\"]\n",
    "\n",
    "# List of tuples defining the minimum, maximum, and # of decimals for each factor\n",
    "# Each tuple corresponds to a factor in solver_factor_headers\n",
    "solver_factor_settings = [(0.05, 0.15, 2), (0.6, 1.0, 2), (5, 6, 0)]\n",
    "\n",
    "# Number of stacks for the solver\n",
    "solver_n_stacks = 1\n",
    "\n",
    "# Fixed factors for the solver (if any)\n",
    "solver_fixed_factors = {}\n",
    "\n",
    "# Cross design factors for the solver (if any)\n",
    "solver_cross_design_factors = {\"crn_across_solns\": [True, False]}"
   ]
  },
  {
   "cell_type": "markdown",
   "id": "5",
   "metadata": {},
   "source": [
    "## Create Solver Design"
   ]
  },
  {
   "cell_type": "code",
   "execution_count": null,
   "id": "6",
   "metadata": {},
   "outputs": [],
   "source": [
    "from simopt.experiment_base import create_design\n",
    "\n",
    "# Create DataFarmingExperiment object for solver design\n",
    "solver_design_list = create_design(\n",
    "    name=solver_abbr_name,\n",
    "    factor_headers=solver_factor_headers,\n",
    "    factor_settings=solver_factor_settings,\n",
    "    n_stacks=solver_n_stacks,\n",
    "    fixed_factors=solver_fixed_factors,\n",
    "    cross_design_factors=solver_cross_design_factors,\n",
    ")"
   ]
  },
  {
   "cell_type": "markdown",
   "id": "7",
   "metadata": {},
   "source": [
    "## Experiment Configuration Parameters"
   ]
  },
  {
   "cell_type": "code",
   "execution_count": null,
   "id": "8",
   "metadata": {},
   "outputs": [],
   "source": [
    "problem_names = [\"SSCONT-1\", \"SAN-1\"]\n",
    "\n",
    "problem_fixed_factors = [\n",
    "    {\"budget\": 2000, \"demand_mean\": 90.0, \"fixed_cost\": 25},\n",
    "    {\"budget\": 500},\n",
    "]\n",
    "\n",
    "# Specify a common number of macroreplications of each unique solver/problem\n",
    "# combination (i.e., the number of runs at each design point.)\n",
    "n_macroreps = 3\n",
    "\n",
    "# Specify the number of postreplications to take at each recommended solution\n",
    "# from each macroreplication at each design point.\n",
    "n_postreps = 100\n",
    "\n",
    "# Specify the number of postreplications to take at x0 and x*.\n",
    "n_postreps_init_opt = 200\n",
    "\n",
    "# Specify the CRN control for postreplications.\n",
    "crn_across_budget = True  # Default\n",
    "crn_across_macroreps = False  # Default\n",
    "crn_across_init_opt = True  # Default"
   ]
  },
  {
   "cell_type": "markdown",
   "id": "9",
   "metadata": {},
   "source": [
    "## Create Experiment using Specified Configuration"
   ]
  },
  {
   "cell_type": "code",
   "execution_count": null,
   "id": "10",
   "metadata": {},
   "outputs": [],
   "source": [
    "from simopt.experiment_base import ProblemsSolvers\n",
    "\n",
    "# create solver name list\n",
    "solver_names = [solver_abbr_name] * len(solver_design_list)\n",
    "\n",
    "# Create ProblemsSolvers experiment with solver and model design\n",
    "experiment = ProblemsSolvers(\n",
    "    solver_factors=solver_design_list,\n",
    "    problem_factors=problem_fixed_factors,\n",
    "    solver_names=solver_names,\n",
    "    problem_names=problem_names,\n",
    ")\n",
    "\n",
    "# check compatibility of selected solvers and problems\n",
    "experiment.check_compatibility()"
   ]
  },
  {
   "cell_type": "markdown",
   "id": "11",
   "metadata": {},
   "source": [
    "## Run Experiment"
   ]
  },
  {
   "cell_type": "code",
   "execution_count": null,
   "id": "12",
   "metadata": {},
   "outputs": [],
   "source": [
    "# Run macroreplications at each design point.\n",
    "experiment.run(n_macroreps)"
   ]
  },
  {
   "cell_type": "code",
   "execution_count": null,
   "id": "13",
   "metadata": {},
   "outputs": [],
   "source": [
    "# Postprocess the experimental results from each design point.\n",
    "experiment.post_replicate(\n",
    "    n_postreps=n_postreps,\n",
    "    crn_across_budget=crn_across_budget,\n",
    "    crn_across_macroreps=crn_across_macroreps,\n",
    ")"
   ]
  },
  {
   "cell_type": "code",
   "execution_count": null,
   "id": "14",
   "metadata": {},
   "outputs": [],
   "source": [
    "experiment.post_normalize(\n",
    "    n_postreps_init_opt=n_postreps_init_opt,\n",
    "    crn_across_init_opt=crn_across_init_opt,\n",
    ")"
   ]
  },
  {
   "cell_type": "code",
   "execution_count": null,
   "id": "15",
   "metadata": {},
   "outputs": [],
   "source": [
    "# Record and log results\n",
    "experiment.record_group_experiment_results()\n",
    "experiment.log_group_experiment_results()\n",
    "experiment.report_group_statistics()"
   ]
  }
 ],
 "metadata": {
  "kernelspec": {
   "display_name": "simopt",
   "language": "python",
   "name": "python3"
  },
  "language_info": {
   "codemirror_mode": {
    "name": "ipython",
    "version": 3
   },
   "file_extension": ".py",
   "mimetype": "text/x-python",
   "name": "python",
   "nbconvert_exporter": "python",
   "pygments_lexer": "ipython3",
   "version": "3.13.7"
  }
 },
 "nbformat": 4,
 "nbformat_minor": 5
}
