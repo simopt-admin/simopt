{
 "cells": [
  {
   "cell_type": "markdown",
   "id": "0",
   "metadata": {},
   "source": [
    "# Demo for Data Farming over Solvers.\n",
    "\n",
    "This script is intended to help with running a data-farming experiment on a solver.\n",
    "\n",
    "It creates a design of solver factors and runs multiple macroreplications at each version of the solver.\n",
    "\n",
    "Outputs are printed to a file."
   ]
  },
  {
   "cell_type": "markdown",
   "id": "1",
   "metadata": {},
   "source": [
    "## Append SimOpt Path\n",
    "\n",
    "Since the notebook is stored in simopt/notebooks, we need to append the parent simopt directory to the system path to import the necessary modules later on."
   ]
  },
  {
   "cell_type": "code",
   "execution_count": null,
   "id": "2",
   "metadata": {},
   "outputs": [],
   "source": [
    "import sys\n",
    "from pathlib import Path\n",
    "\n",
    "# Take the current directory, find the parent, and add it to the system path\n",
    "sys.path.append(str(Path.cwd().parent))"
   ]
  },
  {
   "cell_type": "markdown",
   "id": "3",
   "metadata": {},
   "source": [
    "## Configuration Parameters\n",
    "\n",
    "This section defines the core parameters for the data farming experiment.\n",
    "\n",
    "To query model/problem/solver names, run `python scripts/list_directories.py`"
   ]
  },
  {
   "cell_type": "code",
   "execution_count": null,
   "id": "4",
   "metadata": {},
   "outputs": [],
   "source": [
    "solver_name = \"ASTRODF\"\n",
    "# list of problem names for solver design to be run on\n",
    "# (if more than one version of same problem, repeat name)\n",
    "problem_names = [\"SSCONT-1\", \"SAN-1\"]\n",
    "\n",
    "# Specify the names of the sovler factors (in order) that will be varied.\n",
    "solver_factor_headers = [\"eta_1\", \"eta_2\", \"lambda_min\"]\n",
    "\n",
    "# OPTIONAL: factors chosen for cross design\n",
    "# factor name followed by list containing factor values to cross design over\n",
    "solver_cross_design_factors = {\"crn_across_solns\": [True, False]}\n",
    "\n",
    "# OPTIONAL: Provide additional overrides for solver default factors.\n",
    "# If empty, default factor settings are used.\n",
    "solver_fixed_factors = {}\n",
    "# OPTIONAL: Provide additional overrides for problem default factors.\n",
    "# If empty, default factor settings are used.\n",
    "# list of dictionaries that provide fixed factors for problems when you don't want\n",
    "# to use the default values. if you want to use all default values use empty\n",
    "# dictionary, order must match problem names\n",
    "problem_fixed_factors = [\n",
    "    {\"budget\": 2000, \"demand_mean\": 90.0, \"fixed_cost\": 25},\n",
    "    {\"budget\": 500},\n",
    "]\n",
    "\n",
    "# Provide the name of a file  .txt locatated in the datafarming_experiments\n",
    "# folder containing\n",
    "# the following:\n",
    "#    - one row corresponding to each solver factor being varied\n",
    "#    - three columns:\n",
    "#         - first column: lower bound for factor value\n",
    "#         - second column: upper bound for factor value\n",
    "#         - third column: (integer) number of digits for discretizing values\n",
    "#                         (e.g., 0 corresponds to integral values for the factor)\n",
    "solver_factor_settings_filename = \"astrodf_testing\"\n",
    "\n",
    "# Specify the number stacks to use for ruby design creation\n",
    "solver_n_stacks = 1\n",
    "\n",
    "# Specify a common number of macroreplications of each unique solver/problem\n",
    "# combination (i.e., the number of runs at each design point.)\n",
    "n_macroreps = 3\n",
    "\n",
    "# Specify the number of postreplications to take at each recommended solution\n",
    "# from each macroreplication at each design point.\n",
    "n_postreps = 100\n",
    "\n",
    "# Specify the number of postreplications to take at x0 and x*.\n",
    "n_postreps_init_opt = 200\n",
    "\n",
    "# Specify the CRN control for postreplications.\n",
    "crn_across_budget = True  # Default\n",
    "crn_across_macroreps = False  # Default\n",
    "crn_across_init_opt = True  # Default"
   ]
  },
  {
   "cell_type": "code",
   "execution_count": null,
   "id": "5",
   "metadata": {},
   "outputs": [],
   "source": [
    "from simopt.experiment_base import create_design\n",
    "\n",
    "# Create DataFarmingExperiment object for sovler design\n",
    "solver_design_list = create_design(\n",
    "    name=solver_name,\n",
    "    factor_headers=solver_factor_headers,\n",
    "    factor_settings_filename=solver_factor_settings_filename,\n",
    "    n_stacks=solver_n_stacks,\n",
    "    fixed_factors=solver_fixed_factors,  # optional\n",
    "    cross_design_factors=solver_cross_design_factors,  # optional\n",
    ")"
   ]
  },
  {
   "cell_type": "code",
   "execution_count": null,
   "id": "6",
   "metadata": {},
   "outputs": [],
   "source": [
    "from simopt.experiment_base import ProblemsSolvers\n",
    "\n",
    "# create solver name list for ProblemsSolvers\n",
    "solver_names = []\n",
    "for _ in range(len(solver_design_list)):\n",
    "    solver_names.append(solver_name)\n",
    "\n",
    "# Create ProblemsSolvers experiment with solver and model design\n",
    "experiment = ProblemsSolvers(\n",
    "    solver_factors=solver_design_list,\n",
    "    problem_factors=problem_fixed_factors,\n",
    "    solver_names=solver_names,\n",
    "    problem_names=problem_names,\n",
    ")\n",
    "\n",
    "# check compatibility of selected solvers and problems\n",
    "experiment.check_compatibility()"
   ]
  },
  {
   "cell_type": "code",
   "execution_count": null,
   "id": "7",
   "metadata": {},
   "outputs": [],
   "source": [
    "# Run macroreplications at each design point.\n",
    "experiment.run(n_macroreps)"
   ]
  },
  {
   "cell_type": "code",
   "execution_count": null,
   "id": "8",
   "metadata": {},
   "outputs": [],
   "source": [
    "# Postprocess the experimental results from each design point.\n",
    "experiment.post_replicate(\n",
    "    n_postreps=n_postreps,\n",
    "    crn_across_budget=crn_across_budget,\n",
    "    crn_across_macroreps=crn_across_macroreps,\n",
    ")"
   ]
  },
  {
   "cell_type": "code",
   "execution_count": null,
   "id": "9",
   "metadata": {},
   "outputs": [],
   "source": [
    "experiment.post_normalize(\n",
    "    n_postreps_init_opt=n_postreps_init_opt,\n",
    "    crn_across_init_opt=crn_across_init_opt,\n",
    ")"
   ]
  },
  {
   "cell_type": "code",
   "execution_count": null,
   "id": "10",
   "metadata": {},
   "outputs": [],
   "source": [
    "# Record and log results\n",
    "experiment.record_group_experiment_results()\n",
    "experiment.log_group_experiment_results()\n",
    "experiment.report_group_statistics()"
   ]
  }
 ],
 "metadata": {
  "language_info": {
   "name": "python"
  }
 },
 "nbformat": 4,
 "nbformat_minor": 5
}
