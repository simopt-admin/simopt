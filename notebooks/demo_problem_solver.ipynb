{
 "cells": [
  {
   "cell_type": "markdown",
   "id": "0",
   "metadata": {},
   "source": [
    "# Demo script for the ProblemSolver class.\n",
    "\n",
    "This script is intended to help with debugging problems and solvers.\n",
    "\n",
    "It create a problem-solver pairing (using the directory) and runs multiple macroreplications of the solver on the problem."
   ]
  },
  {
   "cell_type": "markdown",
   "id": "1",
   "metadata": {},
   "source": [
    "## Append SimOpt Path\n",
    "\n",
    "Since the notebook is stored in simopt/notebooks, we need to append the parent simopt directory to the system path to import the necessary modules later on."
   ]
  },
  {
   "cell_type": "code",
   "execution_count": null,
   "id": "2",
   "metadata": {},
   "outputs": [],
   "source": [
    "import sys\n",
    "from pathlib import Path\n",
    "\n",
    "# Take the current directory, find the parent, and add it to the system path\n",
    "sys.path.append(str(Path.cwd().parent))"
   ]
  },
  {
   "cell_type": "markdown",
   "id": "3",
   "metadata": {},
   "source": [
    "## Configuration Parameters\n",
    "\n",
    "This section defines the core parameters for the demo.\n",
    "\n",
    "To query model/problem/solver names, run `python scripts/list_directories.py`"
   ]
  },
  {
   "cell_type": "code",
   "execution_count": null,
   "id": "4",
   "metadata": {},
   "outputs": [],
   "source": [
    "# Specify the names of the solver and problem to test.\n",
    "# Example with random search solver on continuous newsvendor problem:\n",
    "# solver_abbr_name = \"RNDSRCH\"\n",
    "# problem_abbr_name = \"CNTNEWS-1\"\n",
    "solver_abbr_name = \"RNDSRCH\"\n",
    "problem_abbr_name = \"CNTNEWS-1\"\n",
    "\n",
    "num_macroreps = 10\n",
    "num_postreps = 200\n",
    "num_postreps_init_opt = 200"
   ]
  },
  {
   "cell_type": "code",
   "execution_count": null,
   "id": "5",
   "metadata": {},
   "outputs": [],
   "source": [
    "# If the solver runs have already been performed, specify the file name path.\n",
    "# If no path is specified, a new run will be performed.\n",
    "file_name_path = None\n",
    "\n",
    "if file_name_path is None:\n",
    "    # Import the ProblemSolver class and other useful functions\n",
    "    from simopt.experiment_base import ProblemSolver\n",
    "\n",
    "    # Initialize an instance of the experiment class.\n",
    "    myexperiment = ProblemSolver(solver_abbr_name, problem_abbr_name)\n",
    "\n",
    "    # Run a fixed number of macroreplications of the solver on the problem.\n",
    "    myexperiment.run(n_macroreps=num_macroreps)\n",
    "else:\n",
    "    # following pair of lines (and uncomment the myexperiment.run(...)\n",
    "    # line above) to read in results from a .pickle file.\n",
    "    # file_name_path = \"\"\n",
    "    from simopt.experiment_base import read_experiment_results\n",
    "\n",
    "    myexperiment = read_experiment_results(file_name_path)"
   ]
  },
  {
   "cell_type": "code",
   "execution_count": null,
   "id": "6",
   "metadata": {},
   "outputs": [],
   "source": [
    "# Run a fixed number of postreplications at all recommended solutions.\n",
    "myexperiment.post_replicate(n_postreps=num_postreps)"
   ]
  },
  {
   "cell_type": "code",
   "execution_count": null,
   "id": "7",
   "metadata": {},
   "outputs": [],
   "source": [
    "# Find an optimal solution x* for normalization.\n",
    "from simopt.experiment_base import post_normalize\n",
    "\n",
    "post_normalize([myexperiment], n_postreps_init_opt=num_postreps_init_opt)"
   ]
  },
  {
   "cell_type": "code",
   "execution_count": null,
   "id": "8",
   "metadata": {},
   "outputs": [],
   "source": [
    "# Log results.\n",
    "myexperiment.log_experiment_results()"
   ]
  },
  {
   "cell_type": "code",
   "execution_count": null,
   "id": "9",
   "metadata": {},
   "outputs": [],
   "source": [
    "# Produce basic plots.\n",
    "\n",
    "from simopt.experiment_base import (\n",
    "    PlotType,\n",
    "    plot_progress_curves,\n",
    "    plot_solvability_cdfs,\n",
    ")\n",
    "\n",
    "print(\"Plotting results...\")\n",
    "\n",
    "\n",
    "def _print_path(plot_path: list[Path]) -> None:\n",
    "    print(f\"Plot saved to {plot_path!s}\")\n",
    "\n",
    "\n",
    "_print_path(\n",
    "    plot_progress_curves(\n",
    "        experiments=[myexperiment], plot_type=PlotType.ALL, normalize=False\n",
    "    )\n",
    ")\n",
    "_print_path(\n",
    "    plot_progress_curves(\n",
    "        experiments=[myexperiment], plot_type=PlotType.MEAN, normalize=False\n",
    "    )\n",
    ")\n",
    "_print_path(\n",
    "    plot_progress_curves(\n",
    "        experiments=[myexperiment],\n",
    "        plot_type=PlotType.QUANTILE,\n",
    "        beta=0.90,\n",
    "        normalize=False,\n",
    "    )\n",
    ")\n",
    "_print_path(plot_solvability_cdfs(experiments=[myexperiment], solve_tol=0.1))\n",
    "\n",
    "print(\"Plotting complete!\")"
   ]
  }
 ],
 "metadata": {
  "kernelspec": {
   "display_name": "simopt",
   "language": "python",
   "name": "python3"
  },
  "language_info": {
   "codemirror_mode": {
    "name": "ipython",
    "version": 3
   },
   "file_extension": ".py",
   "mimetype": "text/x-python",
   "name": "python",
   "nbconvert_exporter": "python",
   "pygments_lexer": "ipython3",
   "version": "3.13.2"
  }
 },
 "nbformat": 4,
 "nbformat_minor": 5
}
