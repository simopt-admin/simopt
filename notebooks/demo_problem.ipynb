{
 "cells": [
  {
   "cell_type": "markdown",
   "id": "0",
   "metadata": {},
   "source": [
    "# Demo script for the Problem class.\n",
    "\n",
    "This script is intended to help with debugging a problem.\n",
    "\n",
    "It imports a problem, initializes a problem object with given factors, sets up pseudorandom number generators, and runs multiple replications at a given solution."
   ]
  },
  {
   "cell_type": "markdown",
   "id": "1",
   "metadata": {},
   "source": [
    "## Append SimOpt Path\n",
    "\n",
    "Since the notebook is stored in simopt/notebooks, we need to append the parent simopt directory to the system path to import the necessary modules later on."
   ]
  },
  {
   "cell_type": "code",
   "execution_count": null,
   "id": "2",
   "metadata": {},
   "outputs": [],
   "source": [
    "import sys\n",
    "from pathlib import Path\n",
    "\n",
    "# Take the current directory, find the parent, and add it to the system path\n",
    "sys.path.append(str(Path.cwd().parent))"
   ]
  },
  {
   "cell_type": "markdown",
   "id": "3",
   "metadata": {},
   "source": [
    "## Configuration Parameters\n",
    "\n",
    "This section defines the core parameters for the demo.\n",
    "\n",
    "To query model/problem/solver names, run `python scripts/list_directories.py`"
   ]
  },
  {
   "cell_type": "code",
   "execution_count": null,
   "id": "4",
   "metadata": {},
   "outputs": [],
   "source": [
    "# Import problem.\n",
    "# from models.<filename> import <problem_class_name>\n",
    "# Replace <filename> with name of .py file containing problem class.\n",
    "# Replace <problem_class_name> with name of problem class.\n",
    "# Fix factors of problem. Specify a dictionary of factors.\n",
    "# fixed_factors = {}  # Resort to all default values.\n",
    "# Look at Problem class definition to get names of factors.\n",
    "# Initialize an instance of the specified problem class.\n",
    "# myproblem = <problem_class_name>(fixed_factors=fixed_factors)\n",
    "# Replace <problem_class_name> with name of problem class.\n",
    "# Initialize a solution x corresponding to the problem.\n",
    "# x = (,)\n",
    "# Look at the Problem class definition to identify the decision variables.\n",
    "# x will be a tuple consisting of the decision variables.\n",
    "# The following line does not need to be changed.\n",
    "# mysolution = Solution(x, myproblem)\n",
    "# Working example for CntNVMaxProfit problem.\n",
    "# -----------------------------------------------\n",
    "from simopt.models.cntnv import CntNVMaxProfit\n",
    "\n",
    "fixed_factors = {\"initial_solution\": (2,), \"budget\": 500}\n",
    "myproblem = CntNVMaxProfit(fixed_factors=fixed_factors)\n",
    "x = (3,)\n",
    "\n",
    "# -----------------------------------------------\n",
    "\n",
    "# Another working example for FacilitySizingTotalCost problem. (Commented out)\n",
    "# This example has stochastic constraints.\n",
    "# -----------------------------------------------\n",
    "# from models.facilitysizing import FacilitySizingTotalCost\n",
    "# fixed_factors = {\"epsilon\": 0.1}\n",
    "# myproblem = FacilitySizingTotalCost(fixed_factors=fixed_factors)\n",
    "# x = (200, 200, 200)\n",
    "# mysolution = Solution(x, myproblem)\n",
    "# -----------------------------------------------\n",
    "\n",
    "num_macroreps = 10"
   ]
  },
  {
   "cell_type": "code",
   "execution_count": null,
   "id": "5",
   "metadata": {},
   "outputs": [],
   "source": [
    "# Create and attach rngs to solution\n",
    "from mrg32k3a.mrg32k3a import MRG32k3a\n",
    "from simopt.base import Solution\n",
    "\n",
    "rng_list = [MRG32k3a(s_ss_sss_index=[0, ss, 0]) for ss in range(myproblem.model.n_rngs)]\n",
    "mysolution = Solution(x, myproblem)\n",
    "\n",
    "mysolution.attach_rngs(rng_list, copy=False)"
   ]
  },
  {
   "cell_type": "code",
   "execution_count": null,
   "id": "6",
   "metadata": {},
   "outputs": [],
   "source": [
    "# Simulate a fixed number of replications at the solution x.\n",
    "myproblem.simulate(mysolution, num_macroreps=num_macroreps)"
   ]
  },
  {
   "cell_type": "code",
   "execution_count": null,
   "id": "7",
   "metadata": {},
   "outputs": [],
   "source": [
    "# Print results to console.\n",
    "print(\n",
    "    f\"Ran {num_macroreps} replications of the {myproblem.name} problem \"\n",
    "    f\"at solution x = {x}.\\n\"\n",
    ")\n",
    "obj_mean = round(mysolution.objectives_mean[0], 4)\n",
    "obj_stderr = round(mysolution.objectives_stderr[0], 4)\n",
    "print(f\"The mean objective estimate was {obj_mean} with standard error {obj_stderr}.\")\n",
    "print(\"The individual observations of the objective were:\")\n",
    "for idx in range(num_macroreps):\n",
    "    print(f\"\\t {round(mysolution.objectives[idx][0], 4)}\")\n",
    "if myproblem.gradient_available:\n",
    "    print(\"\\nThe individual observations of the gradients of the objective were:\")\n",
    "    for idx in range(num_macroreps):\n",
    "        grads = mysolution.objectives_gradients[idx][0]\n",
    "        print(f\"\\t {[round(g, 4) for g in grads]}\")\n",
    "else:\n",
    "    print(\"\\nThis problem has no known gradients.\")\n",
    "if myproblem.n_stochastic_constraints > 0:\n",
    "    print(\n",
    "        f\"\\nThis problem has {myproblem.n_stochastic_constraints} stochastic \"\n",
    "        \"constraints of the form E[LHS] <= 0.\"\n",
    "    )\n",
    "    for stc_idx in range(myproblem.n_stochastic_constraints):\n",
    "        stoch_const_mean = mysolution.stoch_constraints_mean[stc_idx]\n",
    "        stoch_const_mean_round = round(stoch_const_mean, 4)\n",
    "        stoch_const_stderr = mysolution.stoch_constraints_stderr[stc_idx]\n",
    "        stoch_const_stderr_round = round(stoch_const_stderr, 4)\n",
    "        print(\n",
    "            f\"\\tFor stochastic constraint #{stc_idx + 1}, \"\n",
    "            f\"the mean of the LHS was {stoch_const_mean_round} \"\n",
    "            f\"with standard error {stoch_const_stderr_round}.\"\n",
    "        )\n",
    "        print(\"\\tThe observations of the LHSs were:\")\n",
    "        for idx in range(num_macroreps):\n",
    "            # Quick check to make sure the stochastic constraints are not None.\n",
    "            if mysolution.stoch_constraints is None:\n",
    "                error_msg = \"Stochastic constraints should not be None.\"\n",
    "                raise ValueError(error_msg)\n",
    "            # Print out the current stochastic constraint value.\n",
    "            stoch_const = mysolution.stoch_constraints[stc_idx][idx]\n",
    "            stoch_const_round = round(stoch_const, 4)\n",
    "            print(f\"\\t\\t {stoch_const_round}\")\n",
    "else:\n",
    "    print(\"\\nThis problem has no stochastic constraints.\")"
   ]
  }
 ],
 "metadata": {
  "kernelspec": {
   "display_name": "simopt",
   "language": "python",
   "name": "python3"
  },
  "language_info": {
   "codemirror_mode": {
    "name": "ipython",
    "version": 3
   },
   "file_extension": ".py",
   "mimetype": "text/x-python",
   "name": "python",
   "nbconvert_exporter": "python",
   "pygments_lexer": "ipython3",
   "version": "3.13.2"
  }
 },
 "nbformat": 4,
 "nbformat_minor": 5
}
