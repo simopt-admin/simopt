{
 "cells": [
  {
   "cell_type": "code",
   "execution_count": null,
   "id": "ab813968-e1d0-467a-b34e-5289a66e7a83",
   "metadata": {},
   "outputs": [],
   "source": [
    "import sys\n",
    "\n",
    "sys.path.append(\"..\")"
   ]
  },
  {
   "cell_type": "code",
   "execution_count": null,
   "id": "e5fdc1e7-d902-4d5d-a1ee-ab67e13f68ae",
   "metadata": {},
   "outputs": [],
   "source": [
    "from simopt.experiment_base import (\n",
    "    PlotType,\n",
    "    ProblemSolver,\n",
    "    plot_feasibility_progress,\n",
    "    plot_progress_curves,\n",
    "    plot_terminal_feasibility,\n",
    "    plot_terminal_progress,\n",
    "    post_normalize,\n",
    ")\n",
    "from simopt.models.san import SANLongestPathStochastic\n",
    "from simopt.solvers.fcsa import FCSA"
   ]
  },
  {
   "cell_type": "code",
   "execution_count": null,
   "id": "2ab33f02-0070-49c0-ab1f-907d26af1080",
   "metadata": {},
   "outputs": [],
   "source": [
    "fixed_factors = {\n",
    "    \"constraint_nodes\": [6, 8],  # nodes with stochastic constraints\n",
    "    \"length_to_node_constraint\": [5, 5],  # max expected length to each constraint node\n",
    "    \"initial_solution\": (5,) * 13,\n",
    "    \"budget\": 10000,\n",
    "}\n",
    "problem = SANLongestPathStochastic(fixed_factors=fixed_factors)"
   ]
  },
  {
   "cell_type": "code",
   "execution_count": null,
   "id": "c9c8d14c-2712-4290-a6f9-e3e360db71bd",
   "metadata": {
    "scrolled": true
   },
   "outputs": [],
   "source": [
    "csa = FCSA(\n",
    "    fixed_factors={\n",
    "        \"search_direction\": \"CSA\",\n",
    "        \"normalize_grads\": False,\n",
    "        \"report_all_solns\": True,\n",
    "        \"crn_across_solns\": False,\n",
    "    },\n",
    "    name=\"CSA\",\n",
    ")\n",
    "csa_n = FCSA(\n",
    "    fixed_factors={\n",
    "        \"search_direction\": \"CSA\",\n",
    "        \"normalize_grads\": True,\n",
    "        \"report_all_solns\": True,\n",
    "        \"crn_across_solns\": False,\n",
    "    },\n",
    "    name=\"CSA-N\",\n",
    ")\n",
    "fcsa = FCSA(\n",
    "    fixed_factors={\n",
    "        \"search_direction\": \"FCSA\",\n",
    "        \"normalize_grads\": True,\n",
    "        \"report_all_solns\": True,\n",
    "        \"crn_across_solns\": False,\n",
    "    },\n",
    "    name=\"FCSA\",\n",
    ")"
   ]
  },
  {
   "cell_type": "code",
   "execution_count": null,
   "id": "3795eb6b-be3f-4192-a218-624f26eb5514",
   "metadata": {},
   "outputs": [],
   "source": [
    "def run_experiment(solver, problem, n_macroreps, n_postreps):\n",
    "    experiment = ProblemSolver(solver=solver, problem=problem)\n",
    "    experiment.run(n_macroreps=n_macroreps)\n",
    "    experiment.post_replicate(n_postreps=n_postreps)\n",
    "    return experiment"
   ]
  },
  {
   "cell_type": "code",
   "execution_count": null,
   "id": "30a2d9ec-785e-44d8-90a6-c68f4759e8e3",
   "metadata": {},
   "outputs": [],
   "source": [
    "n_macroreps = 10\n",
    "n_postreps = 100\n",
    "experiments = [\n",
    "    run_experiment(solver, problem, n_macroreps, n_postreps)\n",
    "    for solver in [csa, csa_n, fcsa]\n",
    "]\n",
    "experiment1, experiment2, experiment3 = experiments\n",
    "post_normalize(experiments, n_postreps)"
   ]
  },
  {
   "cell_type": "code",
   "execution_count": null,
   "id": "5f699a65-c580-4ef4-8a0e-09f60d0898ff",
   "metadata": {},
   "outputs": [],
   "source": [
    "plot_terminal_progress([experiment1], PlotType.VIOLIN, normalize=False)"
   ]
  },
  {
   "cell_type": "code",
   "execution_count": null,
   "id": "66b0254e-1adb-4b97-93e8-3f0b334af5e6",
   "metadata": {},
   "outputs": [],
   "source": [
    "plot_terminal_feasibility(\n",
    "    [[experiment1]], PlotType.FEASIBILITY_VIOLIN, all_in_one=True, two_sided=True\n",
    ")"
   ]
  },
  {
   "cell_type": "code",
   "execution_count": null,
   "id": "df22deb8-97c8-4fc6-8eb3-54f42147110f",
   "metadata": {},
   "outputs": [],
   "source": [
    "plot_progress_curves([experiment1], PlotType.ALL, normalize=False)"
   ]
  },
  {
   "cell_type": "code",
   "execution_count": null,
   "id": "5bbd05c7-8e8a-441d-8187-525202ed49eb",
   "metadata": {},
   "outputs": [],
   "source": [
    "plot_feasibility_progress(\n",
    "    [[experiment1]], PlotType.ALL_FEASIBILITY_PROGRESS, print_max_hw=False\n",
    ")"
   ]
  },
  {
   "cell_type": "code",
   "execution_count": null,
   "id": "4e4c7849-4011-421f-87f6-5cdc5f9505dd",
   "metadata": {},
   "outputs": [],
   "source": [
    "plot_progress_curves([experiment2, experiment3], PlotType.ALL, normalize=False)"
   ]
  },
  {
   "cell_type": "code",
   "execution_count": null,
   "id": "964b0b59-0fc5-4bd7-bbab-f1556267ebc7",
   "metadata": {},
   "outputs": [],
   "source": [
    "plot_feasibility_progress(\n",
    "    [[experiment2], [experiment3]],\n",
    "    PlotType.ALL_FEASIBILITY_PROGRESS,\n",
    "    print_max_hw=False,\n",
    ")"
   ]
  },
  {
   "cell_type": "code",
   "execution_count": null,
   "id": "0b9d9594-f550-4e96-8a06-3e21659f7b8c",
   "metadata": {},
   "outputs": [],
   "source": [
    "csa_n = FCSA(\n",
    "    fixed_factors={\n",
    "        \"search_direction\": \"CSA\",\n",
    "        \"normalize_grads\": True,\n",
    "        \"report_all_solns\": False,\n",
    "        \"crn_across_solns\": False,\n",
    "    },\n",
    "    name=\"CSA-N\",\n",
    ")\n",
    "fcsa = FCSA(\n",
    "    fixed_factors={\n",
    "        \"search_direction\": \"FCSA\",\n",
    "        \"normalize_grads\": True,\n",
    "        \"report_all_solns\": False,\n",
    "        \"crn_across_solns\": False,\n",
    "    },\n",
    "    name=\"FCSA\",\n",
    ")"
   ]
  },
  {
   "cell_type": "code",
   "execution_count": null,
   "id": "c3d28bd7-04b4-49f2-b240-26f4b9f544e6",
   "metadata": {},
   "outputs": [],
   "source": [
    "experiments = [\n",
    "    run_experiment(solver, problem, n_macroreps, n_postreps) for solver in [csa_n, fcsa]\n",
    "]\n",
    "experiment2, experiment3 = experiments\n",
    "post_normalize([experiment2, experiment3], 100)"
   ]
  },
  {
   "cell_type": "code",
   "execution_count": null,
   "id": "0780c94c-25f8-47e6-866c-0fd64d9bd508",
   "metadata": {},
   "outputs": [],
   "source": [
    "plot_terminal_feasibility([[experiment2], [experiment3]], PlotType.FEASIBILITY_SCATTER)"
   ]
  }
 ],
 "metadata": {
  "jupytext": {
   "formats": "ipynb,py:percent"
  },
  "kernelspec": {
   "display_name": "Python 3 (ipykernel)",
   "language": "python",
   "name": "python3"
  },
  "language_info": {
   "codemirror_mode": {
    "name": "ipython",
    "version": 3
   },
   "file_extension": ".py",
   "mimetype": "text/x-python",
   "name": "python",
   "nbconvert_exporter": "python",
   "pygments_lexer": "ipython3",
   "version": "3.13.6"
  }
 },
 "nbformat": 4,
 "nbformat_minor": 5
}
