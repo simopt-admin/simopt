{
 "cells": [
  {
   "cell_type": "markdown",
   "id": "0",
   "metadata": {},
   "source": [
    "# Demo for Data Farming over Problems.\n",
    "\n",
    "This script is intended to help with running a data-farming experiment on a problem.\n",
    "\n",
    "It creates a design of problem factors and runs multiple macroreplications at each version of the problem.\n",
    "\n",
    "Outputs are printed to a file."
   ]
  },
  {
   "cell_type": "markdown",
   "id": "1",
   "metadata": {},
   "source": [
    "## Append SimOpt Path\n",
    "\n",
    "Since the notebook is stored in simopt/notebooks, we need to append the parent simopt directory to the system path to import the necessary modules later on."
   ]
  },
  {
   "cell_type": "code",
   "execution_count": null,
   "id": "2",
   "metadata": {},
   "outputs": [],
   "source": [
    "import sys\n",
    "from pathlib import Path\n",
    "\n",
    "# Take the current directory, find the parent, and add it to the system path\n",
    "sys.path.append(str(Path.cwd().parent))"
   ]
  },
  {
   "cell_type": "code",
   "execution_count": null,
   "id": "3",
   "metadata": {},
   "outputs": [],
   "source": [
    "problem_name = \"CNTNEWS-1\"\n",
    "model_name = \"CNTNEWS\"\n",
    "solver_names = [\"ASTRODF\", \"RNDSRCH\"]\n",
    "\n",
    "# Specify the names of the model factors (in order) that will be varied.\n",
    "model_factor_headers = [\"purchase_price\", \"sales_price\", \"order_quantity\"]\n",
    "\n",
    "# OPTIONAL: factors chosen for cross design\n",
    "# factor name followed by list containing factor values to cross design over\n",
    "# model_cross_design_factors = {}\n",
    "\n",
    "# OPTIONAL: Provide additional overrides for model default factors.\n",
    "# If empty, default factor settings are used.\n",
    "model_fixed_factors = {\"salvage_price\": 5, \"Burr_c\": 1}\n",
    "\n",
    "# OPTIONAL: Provide additional overrides for solver default factors.\n",
    "# If empty, default factor settings are used.\n",
    "# list of dictionaries that provide fixed factors for problems when you don't want\n",
    "# to use the default values. if you want to use all default values use empty\n",
    "# dictionary, order must match problem names\n",
    "solver_fixed_factors = [{\"eta_1\": 0.5, \"eta_2\": 0.4}, {\"sample_size\": 15}]\n",
    "\n",
    "# uncomment this version to run w/ only default solver factors\n",
    "# sp;ver_fixed_factors = [{},{}]\n",
    "\n",
    "# Provide the name of a file  .txt locatated in the datafarming_experiments folder\n",
    "# containing the following:\n",
    "#    - one row corresponding to each solver factor being varied\n",
    "#    - three columns:\n",
    "#         - first column: lower bound for factor value\n",
    "#         - second column: upper bound for factor value\n",
    "#         - third column: (integer) number of digits for discretizing values\n",
    "#                         (e.g., 0 corresponds to integral values for the factor)\n",
    "model_factor_settings_filename = \"testing_model_cntnews_1\"\n",
    "\n",
    "# Specify the number stacks to use for ruby design creation\n",
    "problem_n_stacks = 1\n",
    "\n",
    "# Specify a common number of macroreplications of each unique solver/problem\n",
    "# combination (i.e., the number of runs at each design point.)\n",
    "n_macroreps = 3\n",
    "\n",
    "# Specify the number of postreplications to take at each recommended solution\n",
    "# from each macroreplication at each design point.\n",
    "n_postreps = 100\n",
    "\n",
    "# Specify the number of postreplications to take at x0 and x*.\n",
    "n_postreps_init_opt = 200\n",
    "\n",
    "# Specify the CRN control for postreplications.\n",
    "crn_across_budget = True  # Default\n",
    "crn_across_macroreps = False  # Default\n",
    "crn_across_init_opt = True  # Default"
   ]
  },
  {
   "cell_type": "code",
   "execution_count": null,
   "id": "4",
   "metadata": {},
   "outputs": [],
   "source": [
    "from simopt.experiment_base import create_design\n",
    "\n",
    "# Create DataFarmingExperiment object for model design\n",
    "model_design_list = create_design(\n",
    "    name=model_name,\n",
    "    factor_headers=model_factor_headers,\n",
    "    factor_settings_filename=model_factor_settings_filename,\n",
    "    class_type=\"model\",\n",
    "    n_stacks=problem_n_stacks,\n",
    "    fixed_factors=model_fixed_factors,  # optional\n",
    "    # cross_design_factors=model_cross_design_factors, #optional\n",
    ")"
   ]
  },
  {
   "cell_type": "code",
   "execution_count": null,
   "id": "5",
   "metadata": {},
   "outputs": [],
   "source": [
    "from simopt.experiment_base import ProblemsSolvers\n",
    "\n",
    "# create problem name list for ProblemsSolvers\n",
    "problem_names = []\n",
    "for _ in range(len(model_design_list)):\n",
    "    problem_names.append(problem_name)\n",
    "\n",
    "# Create ProblemsSolvers experiment with solver and model design\n",
    "experiment = ProblemsSolvers(\n",
    "    solver_factors=solver_fixed_factors,\n",
    "    problem_factors=model_design_list,\n",
    "    solver_names=solver_names,\n",
    "    problem_names=problem_names,\n",
    ")\n",
    "\n",
    "# check compatibility of selected solvers and problems\n",
    "experiment.check_compatibility()"
   ]
  },
  {
   "cell_type": "code",
   "execution_count": null,
   "id": "6",
   "metadata": {},
   "outputs": [],
   "source": [
    "# Run macroreplications at each design point.\n",
    "experiment.run(n_macroreps)"
   ]
  },
  {
   "cell_type": "code",
   "execution_count": null,
   "id": "7",
   "metadata": {},
   "outputs": [],
   "source": [
    "# Postprocess the experimental results from each design point.\n",
    "experiment.post_replicate(\n",
    "    n_postreps=n_postreps,\n",
    "    crn_across_budget=crn_across_budget,\n",
    "    crn_across_macroreps=crn_across_macroreps,\n",
    ")"
   ]
  },
  {
   "cell_type": "code",
   "execution_count": null,
   "id": "8",
   "metadata": {},
   "outputs": [],
   "source": [
    "experiment.post_normalize(\n",
    "    n_postreps_init_opt=n_postreps_init_opt,\n",
    "    crn_across_init_opt=crn_across_init_opt,\n",
    ")"
   ]
  },
  {
   "cell_type": "code",
   "execution_count": null,
   "id": "9",
   "metadata": {},
   "outputs": [],
   "source": [
    "# Record and log results\n",
    "experiment.record_group_experiment_results()\n",
    "experiment.log_group_experiment_results()\n",
    "experiment.report_group_statistics()"
   ]
  }
 ],
 "metadata": {
  "kernelspec": {
   "display_name": "simopt",
   "language": "python",
   "name": "python3"
  },
  "language_info": {
   "codemirror_mode": {
    "name": "ipython",
    "version": 3
   },
   "file_extension": ".py",
   "mimetype": "text/x-python",
   "name": "python",
   "nbconvert_exporter": "python",
   "pygments_lexer": "ipython3",
   "version": "3.13.3"
  }
 },
 "nbformat": 4,
 "nbformat_minor": 5
}
