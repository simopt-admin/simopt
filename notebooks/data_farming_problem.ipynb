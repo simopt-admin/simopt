{
 "cells": [
  {
   "cell_type": "markdown",
   "id": "0",
   "metadata": {},
   "source": [
    "# Demo for Data Farming over Problems.\n",
    "\n",
    "This script is intended to help with running a data-farming experiment on a problem.\n",
    "\n",
    "It creates a design of problem factors and runs multiple macroreplications at each version of the problem.\n",
    "\n",
    "Outputs are printed to a file."
   ]
  },
  {
   "cell_type": "markdown",
   "id": "1",
   "metadata": {},
   "source": [
    "## Append SimOpt Path\n",
    "\n",
    "Since the notebook is stored in simopt/notebooks, we need to append the parent simopt directory to the system path to import the necessary modules later on."
   ]
  },
  {
   "cell_type": "code",
   "execution_count": null,
   "id": "2",
   "metadata": {},
   "outputs": [],
   "source": [
    "import sys\n",
    "from pathlib import Path\n",
    "\n",
    "# Take the current directory, find the parent, and add it to the system path\n",
    "sys.path.append(str(Path.cwd().parent))"
   ]
  },
  {
   "cell_type": "markdown",
   "id": "3",
   "metadata": {},
   "source": [
    "## Problem/Model Configuration Parameters\n",
    "\n",
    "To query model/problem/solver names, run `python scripts/list_directories.py`"
   ]
  },
  {
   "cell_type": "code",
   "execution_count": null,
   "id": "4",
   "metadata": {},
   "outputs": [],
   "source": [
    "# Abbreviated name of the problem and model\n",
    "problem_abbr_name = \"CNTNEWS-1\"\n",
    "model_abbr_name = \"CNTNEWS\"\n",
    "\n",
    "# Name of each factor being data farmed for the model\n",
    "model_factor_headers = [\"purchase_price\", \"sales_price\", \"order_quantity\"]\n",
    "\n",
    "# List of tuples defining the minimum, maximum, and # of decimals for each factor\n",
    "# Each tuple corresponds to a factor in model_factor_headers\n",
    "model_factor_settings = [(4.0, 6.0, 1), (8.0, 12.0, 1), (0.4, 0.6, 2)]\n",
    "\n",
    "# Number of stacks for the model\n",
    "model_n_stacks = 1\n",
    "\n",
    "# Fixed factors for the model (if any)\n",
    "model_fixed_factors = {\"salvage_price\": 3, \"Burr_c\": 1}\n",
    "\n",
    "# Cross design factors for the model (if any)\n",
    "model_cross_design_factors = {}"
   ]
  },
  {
   "cell_type": "markdown",
   "id": "5",
   "metadata": {},
   "source": [
    "## Create Problem/Model Design"
   ]
  },
  {
   "cell_type": "code",
   "execution_count": null,
   "id": "6",
   "metadata": {},
   "outputs": [],
   "source": [
    "from simopt.experiment_base import create_design\n",
    "\n",
    "# Create DataFarmingExperiment object for model design\n",
    "model_design_list = create_design(\n",
    "    name=model_abbr_name,\n",
    "    factor_headers=model_factor_headers,\n",
    "    factor_settings=model_factor_settings,\n",
    "    n_stacks=model_n_stacks,\n",
    "    fixed_factors=model_fixed_factors,  # optional\n",
    "    # cross_design_factors=model_cross_design_factors, #optional\n",
    ")"
   ]
  },
  {
   "cell_type": "markdown",
   "id": "7",
   "metadata": {},
   "source": [
    "## Experiment Configuration Parameters"
   ]
  },
  {
   "cell_type": "code",
   "execution_count": null,
   "id": "8",
   "metadata": {},
   "outputs": [],
   "source": [
    "solver_names = [\"ASTRODF\", \"RNDSRCH\"]\n",
    "solver_fixed_factors = [{\"eta_1\": 0.1, \"eta_2\": 0.8}, {\"sample_size\": 15}]\n",
    "\n",
    "# Specify a common number of macroreplications of each unique solver/problem\n",
    "# combination (i.e., the number of runs at each design point.)\n",
    "n_macroreps = 3\n",
    "\n",
    "# Specify the number of postreplications to take at each recommended solution\n",
    "# from each macroreplication at each design point.\n",
    "n_postreps = 100\n",
    "\n",
    "# Specify the number of postreplications to take at x0 and x*.\n",
    "n_postreps_init_opt = 200\n",
    "\n",
    "# Specify the CRN control for postreplications.\n",
    "crn_across_budget = True  # Default\n",
    "crn_across_macroreps = False  # Default\n",
    "crn_across_init_opt = True  # Default"
   ]
  },
  {
   "cell_type": "markdown",
   "id": "9",
   "metadata": {},
   "source": [
    "## Create Experiment using Specified Configuration"
   ]
  },
  {
   "cell_type": "code",
   "execution_count": null,
   "id": "10",
   "metadata": {},
   "outputs": [],
   "source": [
    "from simopt.experiment_base import ProblemsSolvers\n",
    "\n",
    "# create problem name list\n",
    "problem_names = [problem_abbr_name] * len(model_design_list)\n",
    "\n",
    "# Create ProblemsSolvers experiment with solver and model design\n",
    "experiment = ProblemsSolvers(\n",
    "    solver_factors=solver_fixed_factors,\n",
    "    problem_factors=model_design_list,\n",
    "    solver_names=solver_names,\n",
    "    problem_names=problem_names,\n",
    ")\n",
    "\n",
    "# check compatibility of selected solvers and problems\n",
    "experiment.check_compatibility()"
   ]
  },
  {
   "cell_type": "markdown",
   "id": "11",
   "metadata": {},
   "source": [
    "## Run Experiment"
   ]
  },
  {
   "cell_type": "code",
   "execution_count": null,
   "id": "12",
   "metadata": {},
   "outputs": [],
   "source": [
    "# Run macroreplications at each design point.\n",
    "experiment.run(n_macroreps)"
   ]
  },
  {
   "cell_type": "code",
   "execution_count": null,
   "id": "13",
   "metadata": {},
   "outputs": [],
   "source": [
    "# Postprocess the experimental results from each design point.\n",
    "experiment.post_replicate(\n",
    "    n_postreps=n_postreps,\n",
    "    crn_across_budget=crn_across_budget,\n",
    "    crn_across_macroreps=crn_across_macroreps,\n",
    ")"
   ]
  },
  {
   "cell_type": "code",
   "execution_count": null,
   "id": "14",
   "metadata": {},
   "outputs": [],
   "source": [
    "experiment.post_normalize(\n",
    "    n_postreps_init_opt=n_postreps_init_opt,\n",
    "    crn_across_init_opt=crn_across_init_opt,\n",
    ")"
   ]
  },
  {
   "cell_type": "code",
   "execution_count": null,
   "id": "15",
   "metadata": {},
   "outputs": [],
   "source": [
    "# Record and log results\n",
    "experiment.record_group_experiment_results()\n",
    "experiment.log_group_experiment_results()\n",
    "experiment.report_group_statistics()"
   ]
  }
 ],
 "metadata": {
  "kernelspec": {
   "display_name": "simopt",
   "language": "python",
   "name": "python3"
  },
  "language_info": {
   "codemirror_mode": {
    "name": "ipython",
    "version": 3
   },
   "file_extension": ".py",
   "mimetype": "text/x-python",
   "name": "python",
   "nbconvert_exporter": "python",
   "pygments_lexer": "ipython3",
   "version": "3.13.7"
  }
 },
 "nbformat": 4,
 "nbformat_minor": 5
}
