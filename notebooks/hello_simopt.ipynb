{
 "cells": [
  {
   "cell_type": "markdown",
   "metadata": {},
   "source": [
    "# Hello SimOpt!\n",
    "\n",
    "This script is intended to be an introduction to the world of SimOpt.\n",
    "\n",
    "The script creates a simple experiment and goes through the process of running, post-processing, post-normalizing, and recording the results."
   ]
  },
  {
   "cell_type": "markdown",
   "metadata": {},
   "source": [
    "## Append SimOpt Path\n",
    "\n",
    "Since the notebook is stored in simopt/notebooks, we need to append the parent simopt directory to the system path to import the necessary modules later on."
   ]
  },
  {
   "cell_type": "code",
   "execution_count": null,
   "metadata": {},
   "outputs": [],
   "source": [
    "import sys\n",
    "from pathlib import Path\n",
    "\n",
    "# Take the current directory, find the parent, and add it to the system path\n",
    "sys.path.append(str(Path.cwd().parent))"
   ]
  },
  {
   "cell_type": "markdown",
   "metadata": {},
   "source": [
    "## Configuration Parameters\n",
    "\n",
    "This section defines the core parameters for the demo.\n",
    "\n",
    "To query model/problem/solver names, run `python scripts/list_directories.py`"
   ]
  },
  {
   "cell_type": "code",
   "execution_count": null,
   "metadata": {},
   "outputs": [],
   "source": [
    "# Create an instance of the ProblemSolver class for the given solver and problem\n",
    "solver_name = \"ASTRODF\"\n",
    "problem_name = \"CNTNEWS-1\"\n",
    "\n",
    "num_macroreps = 10\n",
    "num_postreps = 200\n",
    "num_postreps_init_opt = 200"
   ]
  },
  {
   "cell_type": "code",
   "execution_count": null,
   "metadata": {},
   "outputs": [],
   "source": [
    "from simopt.experiment_base import ProblemSolver\n",
    "\n",
    "myexperiment = ProblemSolver(solver_name, problem_name)\n",
    "# Run the experiment with a specified number of macro-repetitions\n",
    "myexperiment.run(n_macroreps=num_macroreps)"
   ]
  },
  {
   "cell_type": "code",
   "execution_count": null,
   "metadata": {},
   "outputs": [],
   "source": [
    "# Post-process the results\n",
    "myexperiment.post_replicate(n_postreps=num_postreps)"
   ]
  },
  {
   "cell_type": "code",
   "execution_count": null,
   "metadata": {},
   "outputs": [],
   "source": [
    "# Normalize the results\n",
    "from simopt.experiment_base import post_normalize\n",
    "\n",
    "post_normalize(experiments=[myexperiment], n_postreps_init_opt=num_postreps_init_opt)"
   ]
  },
  {
   "cell_type": "code",
   "execution_count": null,
   "metadata": {},
   "outputs": [],
   "source": [
    "# Record the results and plot the mean progress curve.\n",
    "from simopt.experiment_base import PlotType, plot_progress_curves\n",
    "\n",
    "myexperiment.log_experiment_results()\n",
    "plot_progress_curves(\n",
    "    experiments=[myexperiment],\n",
    "    plot_type=PlotType.MEAN,\n",
    "    normalize=False,\n",
    ")"
   ]
  }
 ],
 "metadata": {
  "kernelspec": {
   "display_name": "simopt",
   "language": "python",
   "name": "python3"
  },
  "language_info": {
   "codemirror_mode": {
    "name": "ipython",
    "version": 3
   },
   "file_extension": ".py",
   "mimetype": "text/x-python",
   "name": "python",
   "nbconvert_exporter": "python",
   "pygments_lexer": "ipython3",
   "version": "3.13.3"
  }
 },
 "nbformat": 4,
 "nbformat_minor": 2
}
