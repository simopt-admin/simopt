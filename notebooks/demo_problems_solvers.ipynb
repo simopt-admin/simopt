{
 "cells": [
  {
   "cell_type": "markdown",
   "id": "0",
   "metadata": {},
   "source": [
    "# Demo for the ProblemsSolvers class.\n",
    "\n",
    "This script is intended to help with debugging problems and solvers.\n",
    "\n",
    "It create problem-solver groups (using the directory) and runs multiple macroreplications of each problem-solver pair."
   ]
  },
  {
   "cell_type": "markdown",
   "id": "1",
   "metadata": {},
   "source": [
    "## Append SimOpt Path\n",
    "\n",
    "Since the notebook is stored in simopt/notebooks, we need to append the parent simopt directory to the system path to import the necessary modules later on."
   ]
  },
  {
   "cell_type": "code",
   "execution_count": null,
   "id": "2",
   "metadata": {},
   "outputs": [],
   "source": [
    "import sys\n",
    "from pathlib import Path\n",
    "\n",
    "# Take the current directory, find the parent, and add it to the system path\n",
    "sys.path.append(str(Path.cwd().parent))"
   ]
  },
  {
   "cell_type": "markdown",
   "id": "3",
   "metadata": {},
   "source": [
    "## Configuration Parameters\n",
    "\n",
    "This section defines the core parameters for the demo.\n",
    "\n",
    "To query model/problem/solver names, run `python scripts/list_directories.py`"
   ]
  },
  {
   "cell_type": "code",
   "execution_count": null,
   "id": "4",
   "metadata": {},
   "outputs": [],
   "source": [
    "# Specify the names of the solver(s) and problem(s) to test.\n",
    "solver_abbr_names = [\"RNDSRCH\", \"ASTRODF\", \"NELDMD\"]\n",
    "problem_abbr_names = [\"CNTNEWS-1\", \"SAN-1\"]\n",
    "\n",
    "num_macroreps = 3\n",
    "num_postreps = 50\n",
    "num_postreps_init_opt = 50"
   ]
  },
  {
   "cell_type": "code",
   "execution_count": null,
   "id": "5",
   "metadata": {},
   "outputs": [],
   "source": [
    "# Initialize an instance of the experiment class.\n",
    "from simopt.experiment_base import ProblemsSolvers\n",
    "\n",
    "mymetaexperiment = ProblemsSolvers(\n",
    "    solver_names=solver_abbr_names, problem_names=problem_abbr_names\n",
    ")\n",
    "\n",
    "# Write to log file.\n",
    "mymetaexperiment.log_group_experiment_results()"
   ]
  },
  {
   "cell_type": "code",
   "execution_count": null,
   "id": "6",
   "metadata": {},
   "outputs": [],
   "source": [
    "# Run a fixed number of macroreplications of each solver on each problem.\n",
    "mymetaexperiment.run(n_macroreps=num_macroreps)"
   ]
  },
  {
   "cell_type": "code",
   "execution_count": null,
   "id": "7",
   "metadata": {},
   "outputs": [],
   "source": [
    "print(\"Post-processing results.\")\n",
    "# Run a fixed number of postreplications at all recommended solutions.\n",
    "mymetaexperiment.post_replicate(n_postreps=num_postreps)"
   ]
  },
  {
   "cell_type": "code",
   "execution_count": null,
   "id": "8",
   "metadata": {},
   "outputs": [],
   "source": [
    "print(\"Post-normalizing results.\")\n",
    "\n",
    "# Find an optimal solution x* for normalization.\n",
    "mymetaexperiment.post_normalize(n_postreps_init_opt=num_postreps_init_opt)"
   ]
  },
  {
   "cell_type": "code",
   "execution_count": null,
   "id": "9",
   "metadata": {},
   "outputs": [],
   "source": [
    "# Produce basic plots.\n",
    "\n",
    "from simopt.experiment_base import PlotType, plot_solvability_profiles\n",
    "\n",
    "print(\"Plotting results...\")\n",
    "\n",
    "\n",
    "def _print_path(plot_path: list[Path]) -> None:\n",
    "    print(f\"Plot saved to {plot_path!s}\")\n",
    "\n",
    "\n",
    "_print_path(\n",
    "    plot_solvability_profiles(\n",
    "        experiments=mymetaexperiment.experiments, plot_type=PlotType.CDF_SOLVABILITY\n",
    "    )\n",
    ")\n",
    "\n",
    "print(\"Plotting complete!\")"
   ]
  }
 ],
 "metadata": {
  "kernelspec": {
   "display_name": "simopt",
   "language": "python",
   "name": "python3"
  },
  "language_info": {
   "codemirror_mode": {
    "name": "ipython",
    "version": 3
   },
   "file_extension": ".py",
   "mimetype": "text/x-python",
   "name": "python",
   "nbconvert_exporter": "python",
   "pygments_lexer": "ipython3",
   "version": "3.13.2"
  }
 },
 "nbformat": 4,
 "nbformat_minor": 5
}
