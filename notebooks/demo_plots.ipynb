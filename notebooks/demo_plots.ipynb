{
 "cells": [
  {
   "cell_type": "markdown",
   "id": "0",
   "metadata": {},
   "source": [
    "# Demo Plotting Script.\n",
    "\n",
    "This script is intended to help with debugging problems and solvers.\n",
    "\n",
    "It create a problem-solver pairing (using the directory) and runs multiple macroreplications of the solver on the problem."
   ]
  },
  {
   "cell_type": "markdown",
   "id": "1",
   "metadata": {},
   "source": [
    "## Append SimOpt Path\n",
    "\n",
    "Since the notebook is stored in simopt/notebooks, we need to append the parent simopt directory to the system path to import the necessary modules later on."
   ]
  },
  {
   "cell_type": "code",
   "execution_count": null,
   "id": "2",
   "metadata": {},
   "outputs": [],
   "source": [
    "import sys\n",
    "from pathlib import Path\n",
    "\n",
    "# Take the current directory, find the parent, and add it to the system path\n",
    "sys.path.append(str(Path.cwd().parent))"
   ]
  },
  {
   "cell_type": "markdown",
   "id": "3",
   "metadata": {},
   "source": [
    "## Configuration Parameters\n",
    "\n",
    "This section defines the core parameters for the plotting demo.\n",
    "\n",
    "To query model/problem/solver names, run `python scripts/list_directories.py`"
   ]
  },
  {
   "cell_type": "code",
   "execution_count": null,
   "id": "4",
   "metadata": {},
   "outputs": [],
   "source": [
    "solver_names = {\"RNDSRCH\", \"ASTRODF\", \"NELDMD\"}\n",
    "problem_names = {\"SAN-1\"}\n",
    "\n",
    "num_macroreps = 10\n",
    "num_postreps = 200\n",
    "num_postreps_init_opt = 200"
   ]
  },
  {
   "cell_type": "code",
   "execution_count": null,
   "id": "5",
   "metadata": {},
   "outputs": [],
   "source": [
    "# Import the ProblemSolver class and other useful functions\n",
    "from simopt.experiment_base import (\n",
    "    ProblemSolver,\n",
    "    post_normalize,\n",
    "    read_experiment_results,\n",
    ")\n",
    "\n",
    "myexperiments: list[ProblemSolver] = []\n",
    "for problem_name in problem_names:\n",
    "    problem_experiments = []\n",
    "    for solver_name in solver_names:\n",
    "        print(f\"Testing solver {solver_name} on problem {problem_name}.\")\n",
    "        # Initialize an instance of the experiment class.\n",
    "        myexperiment = ProblemSolver(solver_name, problem_name)\n",
    "\n",
    "        # Run a fixed number of macroreplications of the solver on the problem.\n",
    "        myexperiment.run(n_macroreps=num_macroreps)\n",
    "\n",
    "        # If the solver runs have already been performed, uncomment the\n",
    "        # following pair of lines (and uncommmen the myexperiment.run(...)\n",
    "        # line above) to read in results from a .pickle file.\n",
    "        file_name = solver_name + \"_on_\" + problem_name + \".pickle\"\n",
    "        myexperiment = read_experiment_results(file_name)\n",
    "\n",
    "        print(\"Post-processing results.\")\n",
    "        # Run a fixed number of postreplications at all recommended solutions.\n",
    "        myexperiment.post_replicate(n_postreps=num_postreps)\n",
    "\n",
    "        problem_experiments.append(myexperiment)\n",
    "\n",
    "    # Find an optimal solution x* for normalization.\n",
    "    post_normalize(problem_experiments, n_postreps_init_opt=num_postreps_init_opt)\n",
    "\n",
    "    # Add the experiments for this problem to the main list.\n",
    "    myexperiments.extend(problem_experiments)"
   ]
  },
  {
   "cell_type": "code",
   "execution_count": null,
   "id": "6",
   "metadata": {},
   "outputs": [],
   "source": [
    "# Produce basic plots.\n",
    "\n",
    "from simopt.experiment_base import (\n",
    "    PlotType,\n",
    "    plot_terminal_progress,\n",
    ")\n",
    "\n",
    "print(\"Plotting results...\")\n",
    "\n",
    "\n",
    "def _print_path(plot_path: list[Path]) -> None:\n",
    "    print(f\"Plot saved to {plot_path!s}\")\n",
    "\n",
    "\n",
    "_print_path(\n",
    "    plot_terminal_progress(\n",
    "        experiments=myexperiments, plot_type=PlotType.BOX, normalize=False\n",
    "    )\n",
    ")\n",
    "\n",
    "_print_path(\n",
    "    plot_terminal_progress(\n",
    "        experiments=myexperiments, plot_type=PlotType.BOX, normalize=True\n",
    "    )\n",
    ")\n",
    "\n",
    "_print_path(\n",
    "    plot_terminal_progress(\n",
    "        experiments=myexperiments,\n",
    "        plot_type=PlotType.VIOLIN,\n",
    "        normalize=False,\n",
    "        all_in_one=False,\n",
    "    )\n",
    ")\n",
    "\n",
    "_print_path(\n",
    "    plot_terminal_progress(\n",
    "        experiments=myexperiments, plot_type=PlotType.VIOLIN, normalize=True\n",
    "    )\n",
    ")\n",
    "\n",
    "print(\"Plotting complete!\")"
   ]
  }
 ],
 "metadata": {
  "kernelspec": {
   "display_name": "simopt",
   "language": "python",
   "name": "python3"
  },
  "language_info": {
   "codemirror_mode": {
    "name": "ipython",
    "version": 3
   },
   "file_extension": ".py",
   "mimetype": "text/x-python",
   "name": "python",
   "nbconvert_exporter": "python",
   "pygments_lexer": "ipython3",
   "version": "3.13.2"
  }
 },
 "nbformat": 4,
 "nbformat_minor": 5
}
