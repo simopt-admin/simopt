{
 "cells": [
  {
   "cell_type": "markdown",
   "id": "0",
   "metadata": {},
   "source": [
    "# Run five solvers on 20 versions of the (s, S) inventory problem.\n",
    "\n",
    "Produces plots appearing in the INFORMS Journal on Computing submission."
   ]
  },
  {
   "cell_type": "markdown",
   "id": "1",
   "metadata": {},
   "source": [
    "## Append SimOpt Path\n",
    "\n",
    "Since the notebook is stored in simopt/notebooks, we need to append the\n",
    "parent simopt directory to the system path to import the necessary modules\n",
    "later on."
   ]
  },
  {
   "cell_type": "code",
   "execution_count": null,
   "id": "2",
   "metadata": {},
   "outputs": [],
   "source": [
    "import sys\n",
    "from pathlib import Path\n",
    "\n",
    "# Take the current directory, find the parent, and add it to the system path\n",
    "sys.path.append(str(Path.cwd().parent))\n",
    "\n",
    "from simopt.experiment_base import (\n",
    "    PlotType,\n",
    "    plot_area_scatterplots,\n",
    "    plot_progress_curves,\n",
    "    plot_solvability_profiles,\n",
    "    plot_terminal_progress,\n",
    "    plot_terminal_scatterplots,\n",
    ")\n",
    "from simopt.experimental import run_experiment"
   ]
  },
  {
   "cell_type": "markdown",
   "id": "3",
   "metadata": {},
   "source": [
    "## Experiment Configuration Parameters\n",
    "\n",
    "Define the options used in the experiments."
   ]
  },
  {
   "cell_type": "code",
   "execution_count": null,
   "id": "4",
   "metadata": {
    "lines_to_next_cell": 2
   },
   "outputs": [],
   "source": [
    "# Experiment Configuration\n",
    "num_macroreps = 10\n",
    "num_postreps = 100\n",
    "num_postnorms = 200"
   ]
  },
  {
   "cell_type": "markdown",
   "id": "8",
   "metadata": {},
   "source": [
    "## Problem/Solver Configuration Parameters\n",
    "\n",
    "Define the problems and solvers used in the experiments."
   ]
  },
  {
   "cell_type": "code",
   "execution_count": null,
   "id": "9",
   "metadata": {},
   "outputs": [],
   "source": [
    "# Solvers to use in the experiment.\n",
    "# Includes two versions of random search with varying sample sizes.\n",
    "# The rename will be used in the plots to differentiate them.\n",
    "solvers = [\n",
    "    {\n",
    "        \"name\": \"RNDSRCH\",\n",
    "        \"rename\": \"RNDSRCH_ss=10\",\n",
    "        \"fixed_factors\": {\"sample_size\": 10},\n",
    "    },\n",
    "    {\n",
    "        \"name\": \"RNDSRCH\",\n",
    "        \"rename\": \"RNDSRCH_ss=50\",\n",
    "        \"fixed_factors\": {\"sample_size\": 50},\n",
    "    },\n",
    "    {\"name\": \"ASTRODF\"},\n",
    "    {\"name\": \"NELDMD\"},\n",
    "    {\"name\": \"STRONG\"},\n",
    "]"
   ]
  },
  {
   "cell_type": "code",
   "execution_count": null,
   "id": "10",
   "metadata": {},
   "outputs": [],
   "source": [
    "# Configure the problem\n",
    "demand_means = [25.0, 50.0, 100.0, 200.0, 400.0]\n",
    "lead_means = [1.0, 3.0, 6.0, 9.0]\n",
    "\n",
    "# Create all the problem variants.\n",
    "SSCONT_problems = [\n",
    "    {\n",
    "        \"name\": \"SSCONT-1\",\n",
    "        \"rename\": f\"SSCONT-1_dm={dm}_lm={lm}\",\n",
    "        \"fixed_factors\": {\"budget\": 1000},\n",
    "        \"model_fixed_factors\": {\n",
    "            \"demand_mean\": dm,\n",
    "            \"lead_mean\": lm,\n",
    "        },\n",
    "    }\n",
    "    for dm in demand_means\n",
    "    for lm in lead_means\n",
    "]\n",
    "\n",
    "# Run the experiment for SSCONT problems.\n",
    "SSCONT_experiments = run_experiment(\n",
    "    problems=SSCONT_problems,\n",
    "    solvers=solvers,\n",
    "    num_macroreps=num_macroreps,\n",
    "    num_postreps=num_postreps,\n",
    "    num_postnorms=num_postnorms,\n",
    ")"
   ]
  },
  {
   "cell_type": "code",
   "execution_count": null,
   "id": "11",
   "metadata": {},
   "outputs": [],
   "source": [
    "# Combine the experiments into a list of lists, where the outer list\n",
    "# contains all the experiments for a single solver, and the inner lists\n",
    "# contain the ProblemSolver instances associated with that solver.\n",
    "\n",
    "experiment_dict = {}\n",
    "for exp_problem_list in SSCONT_experiments:\n",
    "    for experiment in exp_problem_list:\n",
    "        # Use the solver name as the key and append the ProblemSolver instance.\n",
    "        key = experiment.solver.name\n",
    "        if key not in experiment_dict:\n",
    "            experiment_dict[key] = []\n",
    "        experiment_dict[key].append(experiment)\n",
    "# Turn the dictionary into a list of lists.\n",
    "experiments = list(experiment_dict.values())"
   ]
  },
  {
   "cell_type": "markdown",
   "id": "12",
   "metadata": {},
   "source": [
    "## Plotting Settings\n",
    "\n",
    "Define the plotting settings for the experiments."
   ]
  },
  {
   "cell_type": "code",
   "execution_count": null,
   "id": "13",
   "metadata": {},
   "outputs": [],
   "source": [
    "enable_confidence_intervals = True\n",
    "alpha = 0.2"
   ]
  },
  {
   "cell_type": "code",
   "execution_count": null,
   "id": "14",
   "metadata": {},
   "outputs": [],
   "source": [
    "plot_area_scatterplots(\n",
    "    experiments, all_in_one=True, plot_conf_ints=True, print_max_hw=True\n",
    ")"
   ]
  },
  {
   "cell_type": "code",
   "execution_count": null,
   "id": "15",
   "metadata": {},
   "outputs": [],
   "source": [
    "plot_solvability_profiles(\n",
    "    experiments,\n",
    "    plot_type=PlotType.CDF_SOLVABILITY,\n",
    "    solve_tol=0.1,\n",
    "    all_in_one=True,\n",
    "    plot_conf_ints=True,\n",
    "    print_max_hw=True,\n",
    ")"
   ]
  },
  {
   "cell_type": "code",
   "execution_count": null,
   "id": "16",
   "metadata": {},
   "outputs": [],
   "source": [
    "plot_solvability_profiles(\n",
    "    experiments,\n",
    "    plot_type=PlotType.QUANTILE_SOLVABILITY,\n",
    "    solve_tol=0.1,\n",
    "    beta=0.5,\n",
    "    all_in_one=True,\n",
    "    plot_conf_ints=True,\n",
    "    print_max_hw=True,\n",
    ")"
   ]
  },
  {
   "cell_type": "code",
   "execution_count": null,
   "id": "17",
   "metadata": {},
   "outputs": [],
   "source": [
    "plot_solvability_profiles(\n",
    "    experiments=experiments,\n",
    "    plot_type=PlotType.DIFFERENCE_OF_CDF_SOLVABILITY,\n",
    "    solve_tol=0.1,\n",
    "    ref_solver=\"ASTRODF\",\n",
    "    all_in_one=True,\n",
    "    plot_conf_ints=True,\n",
    "    print_max_hw=True,\n",
    ")"
   ]
  },
  {
   "cell_type": "code",
   "execution_count": null,
   "id": "18",
   "metadata": {},
   "outputs": [],
   "source": [
    "plot_solvability_profiles(\n",
    "    experiments=experiments,\n",
    "    plot_type=PlotType.DIFFERENCE_OF_QUANTILE_SOLVABILITY,\n",
    "    solve_tol=0.1,\n",
    "    beta=0.5,\n",
    "    ref_solver=\"ASTRODF\",\n",
    "    all_in_one=True,\n",
    "    plot_conf_ints=True,\n",
    "    print_max_hw=True,\n",
    ")"
   ]
  },
  {
   "cell_type": "code",
   "execution_count": null,
   "id": "19",
   "metadata": {},
   "outputs": [],
   "source": [
    "plot_terminal_scatterplots(experiments, all_in_one=True)"
   ]
  },
  {
   "cell_type": "code",
   "execution_count": null,
   "id": "20",
   "metadata": {},
   "outputs": [],
   "source": [
    "n_problems = len(SSCONT_problems)\n",
    "n_solvers = len(experiments)\n",
    "\n",
    "for i in range(n_problems):\n",
    "    plot_progress_curves(\n",
    "        [experiments[solver_idx][i] for solver_idx in range(n_solvers)],\n",
    "        plot_type=PlotType.MEAN,\n",
    "        all_in_one=True,\n",
    "        plot_conf_ints=True,\n",
    "        print_max_hw=True,\n",
    "        normalize=False,\n",
    "    )\n",
    "    plot_terminal_progress(\n",
    "        [experiments[solver_idx][i] for solver_idx in range(n_solvers)],\n",
    "        plot_type=PlotType.VIOLIN,\n",
    "        normalize=True,\n",
    "        all_in_one=True,\n",
    "    )"
   ]
  }
 ],
 "metadata": {
  "jupytext": {
   "formats": "ipynb,py:percent"
  },
  "kernelspec": {
   "display_name": "Python 3 (ipykernel)",
   "language": "python",
   "name": "python3"
  },
  "language_info": {
   "codemirror_mode": {
    "name": "ipython",
    "version": 3
   },
   "file_extension": ".py",
   "mimetype": "text/x-python",
   "name": "python",
   "nbconvert_exporter": "python",
   "pygments_lexer": "ipython3",
   "version": "3.13.6"
  }
 },
 "nbformat": 4,
 "nbformat_minor": 5
}
