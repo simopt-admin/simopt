{
 "cells": [
  {
   "cell_type": "markdown",
   "id": "0",
   "metadata": {},
   "source": [
    "# Demo for Data Farming Models\n",
    "\n",
    "This script is intended to help with running a data-farming experiment on a simulation model.\n",
    "\n",
    "It creates a design of model factors and runs multiple replications at each configuration of the model.\n",
    "\n",
    "Outputs are printed to a file."
   ]
  },
  {
   "cell_type": "markdown",
   "id": "1",
   "metadata": {},
   "source": [
    "## Append SimOpt Path\n",
    "\n",
    "Since the notebook is stored in simopt/notebooks, we need to append the parent simopt directory to the system path to import the necessary modules later on."
   ]
  },
  {
   "cell_type": "code",
   "execution_count": null,
   "id": "2",
   "metadata": {},
   "outputs": [],
   "source": [
    "import sys\n",
    "from pathlib import Path\n",
    "\n",
    "# Take the current directory, find the parent, and add it to the system path\n",
    "sys.path.append(str(Path.cwd().parent))"
   ]
  },
  {
   "cell_type": "markdown",
   "id": "3",
   "metadata": {},
   "source": [
    "## Configure Design\n",
    "\n",
    "To configure a design, the name of each factor being varied must be provided via the `factor_headers` parameter, along with **either** the `factor_settings` **or** `design_filename` parameter. Please note that the ordering of factors in `factor_headers` must match the ordering in either `factor_settings` or `design_filename`.\n",
    "\n",
    "### `factor_settings`\n",
    "\n",
    "Use this parameter to define the factors for a new design of experiments. Each factor requires a lower bound, an upper bound, and a number of digits for discretization.\n",
    "\n",
    "You can provide these settings in one of two ways:\n",
    "\n",
    "#### 1. List of Tuples (Recommended)\n",
    "Pass a list where each element is a 3-tuple representing a single factor with the following structure:\n",
    "- lower_bound: The minimum value for the factor.\n",
    "- upper_bound: The maximum value for the factor.\n",
    "- num_digits: An integer for the number of decimal places (e.g., 0 for integers).\n",
    "\n",
    "**Example:**\n",
    "```python\n",
    "# Defines two factors:\n",
    "# - An integer from 0 to 10.\n",
    "# - A float from 0.00 to 1.00 (in steps of 0.01).\n",
    "factor_settings = [(0, 10, 0), (0.0, 1.0, 2)]\n",
    "```\n",
    "\n",
    "#### 2. File Path\n",
    "Pass a string containing the path to a settings file. The file must contain three columns, with each row corresponding to a different factor.\n",
    "\n",
    "The columns should be structured as follows:\n",
    "- Column 1: Lower bound for the factor's value.\n",
    "- Column 2: Upper bound for the factor's value.\n",
    "- Column 3: An integer for the number of digits for discretization.\n",
    "\n",
    "### `design_filename`\n",
    "\n",
    "Use this parameter to specify the path to a previously generated design file.\n",
    "\n",
    "The file must be structured as a simple table with the following format:\n",
    "- Rows: Each row corresponds to a single design point (an experimental run).\n",
    "- Columns: The number of columns must equal the number of factors being varied.\n",
    "- Values: Each cell contains the specific value for a given factor (column) at a specific design point (row)."
   ]
  },
  {
   "cell_type": "code",
   "execution_count": null,
   "id": "4",
   "metadata": {},
   "outputs": [],
   "source": [
    "# Name of the model being run\n",
    "model_abbr_name = \"CNTNEWS\"\n",
    "\n",
    "# A list of names of the factors (in order) that will be varied.\n",
    "factor_headers = [\n",
    "    \"purchase_price\",\n",
    "    \"sales_price\",\n",
    "    \"salvage_price\",\n",
    "    \"order_quantity\",\n",
    "]\n",
    "\n",
    "factor_settings = [(4.0, 6.0, 1), (8.0, 12.0, 1), (0.0, 2.0, 1), (0.4, 0.6, 2)]\n",
    "# OR\n",
    "design_filename = None"
   ]
  },
  {
   "cell_type": "markdown",
   "id": "5",
   "metadata": {},
   "source": [
    "## Create Experiment using Specified Configuration"
   ]
  },
  {
   "cell_type": "code",
   "execution_count": null,
   "id": "6",
   "metadata": {},
   "outputs": [],
   "source": [
    "from simopt.data_farming_base import DataFarmingExperiment\n",
    "\n",
    "myexperiment = DataFarmingExperiment(\n",
    "    model_name=model_abbr_name,\n",
    "    factor_settings=factor_settings,\n",
    "    factor_headers=factor_headers,\n",
    "    design_path=design_filename,\n",
    ")"
   ]
  },
  {
   "cell_type": "markdown",
   "id": "7",
   "metadata": {},
   "source": [
    "## Run Data Farming Experiment\n",
    "Executes the specified number of replications at each design point and saves the results to a CSV file."
   ]
  },
  {
   "cell_type": "code",
   "execution_count": null,
   "id": "8",
   "metadata": {},
   "outputs": [],
   "source": [
    "# Number of replications to run of the model at each design point\n",
    "n_reps = 10\n",
    "# Specify whether to use common random numbers across different versions of the model\n",
    "crn_across_design_pts = True\n",
    "output_filename = \"cntnews_data_farming_output\"\n",
    "\n",
    "myexperiment.run(n_reps=n_reps, crn_across_design_pts=crn_across_design_pts)\n",
    "myexperiment.print_to_csv(csv_file_name=output_filename, overwrite=True)"
   ]
  }
 ],
 "metadata": {
  "kernelspec": {
   "display_name": "simopt",
   "language": "python",
   "name": "python3"
  },
  "language_info": {
   "codemirror_mode": {
    "name": "ipython",
    "version": 3
   },
   "file_extension": ".py",
   "mimetype": "text/x-python",
   "name": "python",
   "nbconvert_exporter": "python",
   "pygments_lexer": "ipython3",
   "version": "3.13.7"
  }
 },
 "nbformat": 4,
 "nbformat_minor": 5
}
