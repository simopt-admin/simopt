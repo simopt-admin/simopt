{
 "cells": [
  {
   "cell_type": "markdown",
   "id": "0",
   "metadata": {},
   "source": [
    "# Demo for Data Farming Models\n",
    "\n",
    "This script is intended to help with running a data-farming experiment on a simulation model.\n",
    "\n",
    "It creates a design of model factors and runs multiple replications at each configuration of the model.\n",
    "\n",
    "Outputs are printed to a file."
   ]
  },
  {
   "cell_type": "markdown",
   "id": "1",
   "metadata": {},
   "source": [
    "## Append SimOpt Path\n",
    "\n",
    "Since the notebook is stored in simopt/notebooks, we need to append the parent simopt directory to the system path to import the necessary modules later on."
   ]
  },
  {
   "cell_type": "code",
   "execution_count": null,
   "id": "2",
   "metadata": {},
   "outputs": [],
   "source": [
    "import sys\n",
    "from pathlib import Path\n",
    "\n",
    "# Take the current directory, find the parent, and add it to the system path\n",
    "sys.path.append(str(Path.cwd().parent))"
   ]
  },
  {
   "cell_type": "markdown",
   "id": "3",
   "metadata": {},
   "source": [
    "## Configuration Parameters\n",
    "\n",
    "This section defines the core parameters for the data farming experiment.\n",
    "\n",
    "To query model/problem/solver names, run `python scripts/list_directories.py`"
   ]
  },
  {
   "cell_type": "code",
   "execution_count": null,
   "id": "4",
   "metadata": {},
   "outputs": [],
   "source": [
    "model_abbr_name = \"CNTNEWS\"\n",
    "\n",
    "# Specify the names of the model factors (in order) that will be varied.\n",
    "factor_headers = [\n",
    "    \"purchase_price\",\n",
    "    \"sales_price\",\n",
    "    \"salvage_price\",\n",
    "    \"order_quantity\",\n",
    "]"
   ]
  },
  {
   "cell_type": "markdown",
   "id": "5",
   "metadata": {},
   "source": [
    "## Design Settings\n",
    "\n",
    "You can either create a new design by providing a factor_settings_filename with factor bounds and discretization, OR use an existing design by providing a design_filename. Only one of these should be active at a time.\n",
    "\n",
    "### Factor Settings File\n",
    "\n",
    "If creating the design, provide the name of a .txt file containing the following:\n",
    "- one row corresponding to each model factor being varied\n",
    "- 3 columns:\n",
    "  1. lower bound for factor value\n",
    "  2. upper bound for factor value\n",
    "  3. (integer) number of digits for discretizing values (e.g., 0 corresponds to integral values for the factor)\n",
    "\n",
    "### Design File\n",
    "\n",
    "If using an existing design, provide the name of a .txt file containing the design. The file should contain the following:\n",
    "- one row corresponding to each design point\n",
    "- the number of columns equal to the number of factors being varied\n",
    "- each value in the table gives the value of the factor (col index) for the design point (row index)\n"
   ]
  },
  {
   "cell_type": "code",
   "execution_count": null,
   "id": "6",
   "metadata": {},
   "outputs": [],
   "source": [
    "# factor_settings_filename = \"model_factor_settings\"\n",
    "factor_settings_filename = None\n",
    "\n",
    "# design_filename = None\n",
    "design_filename = \"model_factor_settings_design\""
   ]
  },
  {
   "cell_type": "markdown",
   "id": "7",
   "metadata": {},
   "source": [
    "## Replication and Output\n",
    "These settings control the number of simulation runs per design point and whether common random numbers are used, as well as the name for the output file."
   ]
  },
  {
   "cell_type": "code",
   "execution_count": null,
   "id": "8",
   "metadata": {},
   "outputs": [],
   "source": [
    "# Specify a common number of replications to run of the model at each design point\n",
    "n_reps = 10\n",
    "\n",
    "# Specify whether to use common random numbers across different versions of the model\n",
    "crn_across_design_pts = True\n",
    "\n",
    "# Specify filename for outputs\n",
    "output_filename = \"cntnews_data_farming_output\""
   ]
  },
  {
   "cell_type": "markdown",
   "id": "9",
   "metadata": {},
   "source": [
    "## Run Data Farming Experiment\n",
    "This block initializes the DataFarmingExperiment object using the parameters defined above, executes the specified number of replications at each design point, and saves the results to a CSV file."
   ]
  },
  {
   "cell_type": "code",
   "execution_count": null,
   "id": "10",
   "metadata": {},
   "outputs": [],
   "source": [
    "# Import experiment_base module, which contains functions for experimentation.\n",
    "from simopt.data_farming_base import DataFarmingExperiment\n",
    "\n",
    "# Create DataFarmingExperiment object.\n",
    "myexperiment = DataFarmingExperiment(\n",
    "    model_name=model_abbr_name,\n",
    "    factor_settings_file_name=factor_settings_filename,\n",
    "    factor_headers=factor_headers,\n",
    "    design_path=design_filename,\n",
    "    model_fixed_factors={},\n",
    ")\n",
    "\n",
    "# Run replications and print results to file.\n",
    "myexperiment.run(n_reps=n_reps, crn_across_design_pts=crn_across_design_pts)\n",
    "myexperiment.print_to_csv(csv_file_name=output_filename)"
   ]
  }
 ],
 "metadata": {
  "kernelspec": {
   "display_name": "simopt",
   "language": "python",
   "name": "python3"
  },
  "language_info": {
   "codemirror_mode": {
    "name": "ipython",
    "version": 3
   },
   "file_extension": ".py",
   "mimetype": "text/x-python",
   "name": "python",
   "nbconvert_exporter": "python",
   "pygments_lexer": "ipython3",
   "version": "3.13.3"
  }
 },
 "nbformat": 4,
 "nbformat_minor": 5
}
