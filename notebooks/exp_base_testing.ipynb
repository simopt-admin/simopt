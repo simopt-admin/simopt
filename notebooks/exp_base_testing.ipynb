{
 "cells": [
  {
   "cell_type": "markdown",
   "id": "0",
   "metadata": {},
   "source": [
    "# Demo for the ProblemsSolvers class.\n",
    "\n",
    "This script is intended to help with running a data-farming experiment on a solver.\n",
    "\n",
    "It creates a design of solver factors and runs multiple macroreplications at each version of the solver.\n",
    "\n",
    "Outputs are printed to a file."
   ]
  },
  {
   "cell_type": "markdown",
   "id": "1",
   "metadata": {},
   "source": [
    "## Append SimOpt Path\n",
    "\n",
    "Since the notebook is stored in simopt/notebooks, we need to append the parent simopt directory to the system path to import the necessary modules later on."
   ]
  },
  {
   "cell_type": "code",
   "execution_count": null,
   "id": "2",
   "metadata": {},
   "outputs": [],
   "source": [
    "import sys\n",
    "from pathlib import Path\n",
    "\n",
    "# Take the current directory, find the parent, and add it to the system path\n",
    "sys.path.append(str(Path.cwd().parent))"
   ]
  },
  {
   "cell_type": "markdown",
   "id": "3",
   "metadata": {},
   "source": [
    "## Configuration Parameters\n",
    "\n",
    "This section defines the core parameters for the demo.\n",
    "\n",
    "To query model/problem/solver names, run `python scripts/list_directories.py`"
   ]
  },
  {
   "cell_type": "code",
   "execution_count": null,
   "id": "4",
   "metadata": {},
   "outputs": [],
   "source": [
    "# Specify the name of the solver as it appears in directory.py\n",
    "\n",
    "solver_names = [\"RNDSRCH\", \"RNDSRCH\", \"ASTRODF\"]\n",
    "\n",
    "solver_renames = [\"RND_test1\", \"RND_test2\", \"AST_test\"]\n",
    "\n",
    "problem_names = [\"EXAMPLE-1\", \"CNTNEWS-1\"]\n",
    "\n",
    "problem_renames = [\"EX_test\", \"NEWS_test\"]\n",
    "\n",
    "experiment_name = \"test_exp\"\n",
    "\n",
    "solver_factors = [{}, {\"sample_size\": 2}, {}]\n",
    "\n",
    "problem_factors = [{}, {}]\n",
    "\n",
    "num_macroreps = 2\n",
    "num_postreps = 10\n",
    "num_postreps_init_opt = 10"
   ]
  },
  {
   "cell_type": "code",
   "execution_count": null,
   "id": "5",
   "metadata": {},
   "outputs": [],
   "source": [
    "# Create ProblemsSolvers experiment with solver and model design\n",
    "from simopt.experiment_base import ProblemsSolvers\n",
    "\n",
    "experiment = ProblemsSolvers(\n",
    "    solver_factors=solver_factors,\n",
    "    problem_factors=problem_factors,\n",
    "    solver_names=solver_names,\n",
    "    problem_names=problem_names,\n",
    "    solver_renames=solver_renames,\n",
    "    problem_renames=problem_renames,\n",
    "    experiment_name=experiment_name,\n",
    "    create_pair_pickles=True,\n",
    ")\n",
    "\n",
    "# check compatibility of selected solvers and problems\n",
    "experiment.check_compatibility()"
   ]
  },
  {
   "cell_type": "code",
   "execution_count": null,
   "id": "6",
   "metadata": {},
   "outputs": [],
   "source": [
    "# Run macroreplications at each design point.\n",
    "experiment.run(n_macroreps=num_macroreps)"
   ]
  },
  {
   "cell_type": "code",
   "execution_count": null,
   "id": "7",
   "metadata": {},
   "outputs": [],
   "source": [
    "# Postprocess the experimental results from each design point.\n",
    "experiment.post_replicate(n_postreps=num_postreps)"
   ]
  },
  {
   "cell_type": "code",
   "execution_count": null,
   "id": "8",
   "metadata": {},
   "outputs": [],
   "source": [
    "experiment.post_normalize(n_postreps_init_opt=num_postreps_init_opt)"
   ]
  },
  {
   "cell_type": "code",
   "execution_count": null,
   "id": "9",
   "metadata": {},
   "outputs": [],
   "source": [
    "# Record and log results\n",
    "experiment.record_group_experiment_results()\n",
    "experiment.log_group_experiment_results()\n",
    "experiment.report_group_statistics()"
   ]
  }
 ],
 "metadata": {
  "kernelspec": {
   "display_name": "simopt",
   "language": "python",
   "name": "python3"
  },
  "language_info": {
   "codemirror_mode": {
    "name": "ipython",
    "version": 3
   },
   "file_extension": ".py",
   "mimetype": "text/x-python",
   "name": "python",
   "nbconvert_exporter": "python",
   "pygments_lexer": "ipython3",
   "version": "3.13.2"
  }
 },
 "nbformat": 4,
 "nbformat_minor": 5
}
