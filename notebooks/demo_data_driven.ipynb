{
 "cells": [
  {
   "cell_type": "code",
   "execution_count": null,
   "id": "0c786f23-ca88-4fd6-af52-45ea4cc4040c",
   "metadata": {},
   "outputs": [],
   "source": [
    "import sys\n",
    "\n",
    "sys.path.append(\"..\")"
   ]
  },
  {
   "cell_type": "code",
   "execution_count": null,
   "id": "5bd37dae",
   "metadata": {},
   "outputs": [],
   "source": [
    "import random\n",
    "\n",
    "import matplotlib.pyplot as plt\n",
    "import numpy as np\n",
    "\n",
    "from simopt.experiment_base import (\n",
    "    PlotType,\n",
    "    ProblemSolver,\n",
    "    plot_progress_curves,\n",
    "    post_normalize,\n",
    ")\n",
    "from simopt.input_models import InputModel"
   ]
  },
  {
   "cell_type": "code",
   "execution_count": null,
   "id": "31862182",
   "metadata": {},
   "outputs": [],
   "source": [
    "class DemandInputModel(InputModel):\n",
    "    def set_rng(self, rng: random.Random) -> None:\n",
    "        self.rng = rng\n",
    "\n",
    "    def unset_rng(self) -> None:\n",
    "        self.rng = None\n",
    "\n",
    "    def random(self, burr_c: float, burr_k: float) -> float:\n",
    "        mean = 10\n",
    "        std = 0.5\n",
    "        return self.rng.normalvariate(mean, std)"
   ]
  },
  {
   "cell_type": "code",
   "execution_count": null,
   "id": "216642f8",
   "metadata": {},
   "outputs": [],
   "source": [
    "class FileInputModel(InputModel):\n",
    "    def __init__(self, filename):\n",
    "        self.data = np.load(filename)\n",
    "\n",
    "    def set_rng(self, rng: random.Random) -> None:\n",
    "        self.rng = rng\n",
    "\n",
    "    def unset_rng(self) -> None:\n",
    "        self.rng = None\n",
    "\n",
    "    def random(self, burr_c: float, burr_k: float) -> float:\n",
    "        return np.random.choice(self.data, size=1, replace=True)[0]"
   ]
  },
  {
   "cell_type": "code",
   "execution_count": null,
   "id": "ba12635f",
   "metadata": {},
   "outputs": [],
   "source": [
    "class Experiment(ProblemSolver):\n",
    "    def model_created(self, model):\n",
    "        # model.demand_model = DemandInputModel()\n",
    "        model.demand_model = FileInputModel(\"demand.npy\")\n",
    "\n",
    "    def before_replicate(self, model, rng_list):\n",
    "        model.demand_model.set_rng(rng_list[0])"
   ]
  },
  {
   "cell_type": "code",
   "execution_count": null,
   "id": "a1245856",
   "metadata": {},
   "outputs": [],
   "source": [
    "# Run 10 macroreplications of ASTRO-DF on the continuous newsvendor problem.\n",
    "experiment = Experiment(\"ASTRODF\", \"CNTNEWS-1\")\n",
    "experiment.run(n_macroreps=10)\n",
    "\n",
    "# Post-process the results.\n",
    "experiment.post_replicate(n_postreps=200)\n",
    "post_normalize(experiments=[experiment], n_postreps_init_opt=200)\n",
    "\n",
    "# Record the results and plot the mean progress curve.\n",
    "experiment.log_experiment_results()\n",
    "plot_progress_curves(\n",
    "    experiments=[experiment],\n",
    "    plot_type=PlotType.MEAN,\n",
    "    normalize=False,\n",
    ")\n",
    "plt.show()"
   ]
  }
 ],
 "metadata": {
  "jupytext": {
   "formats": "ipynb,py:percent"
  },
  "kernelspec": {
   "display_name": "Python 3 (ipykernel)",
   "language": "python",
   "name": "python3"
  },
  "language_info": {
   "codemirror_mode": {
    "name": "ipython",
    "version": 3
   },
   "file_extension": ".py",
   "mimetype": "text/x-python",
   "name": "python",
   "nbconvert_exporter": "python",
   "pygments_lexer": "ipython3",
   "version": "3.13.6"
  }
 },
 "nbformat": 4,
 "nbformat_minor": 5
}
