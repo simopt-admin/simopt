{
 "cells": [
  {
   "cell_type": "markdown",
   "id": "0",
   "metadata": {},
   "source": [
    "# Demo for Model Debugging.\n",
    "\n",
    "This script is intended to help with debugging a model.\n",
    "\n",
    "It imports a model, initializes a model object with given factors, sets up pseudorandom number generators, and runs one or more replications."
   ]
  },
  {
   "cell_type": "markdown",
   "id": "1",
   "metadata": {},
   "source": [
    "## Append SimOpt Path\n",
    "\n",
    "Since the notebook is stored in simopt/notebooks, we need to append the parent simopt directory to the system path to import the necessary modules later on."
   ]
  },
  {
   "cell_type": "code",
   "execution_count": null,
   "id": "2",
   "metadata": {},
   "outputs": [],
   "source": [
    "import sys\n",
    "from pathlib import Path\n",
    "\n",
    "# Take the current directory, find the parent, and add it to the system path\n",
    "sys.path.append(str(Path.cwd().parent))"
   ]
  },
  {
   "cell_type": "markdown",
   "id": "3",
   "metadata": {},
   "source": [
    "## Model Configuration Parameters\n",
    "\n",
    "This section defines the core parameters for the model.\n",
    "\n",
    "To query model names, run `python scripts/list_directories.py`"
   ]
  },
  {
   "cell_type": "code",
   "execution_count": null,
   "id": "4",
   "metadata": {},
   "outputs": [],
   "source": [
    "# Import the model from the models directory\n",
    "from simopt.models.mm1queue import MM1Queue\n",
    "\n",
    "# Set fixed factors\n",
    "# Setting to {} will resort to all default values.\n",
    "fixed_factors = {\"lambda\": 3.0, \"mu\": 8.0}\n",
    "\n",
    "# Initialize model\n",
    "mymodel = MM1Queue(fixed_factors=fixed_factors)"
   ]
  },
  {
   "cell_type": "code",
   "execution_count": null,
   "id": "5",
   "metadata": {},
   "outputs": [],
   "source": [
    "# Check that all factors describe a simulatable model.\n",
    "# Check fixed factors individually.\n",
    "for key, value in mymodel.factors.items():\n",
    "    print(\n",
    "        f\"The factor {key} is set as {value}. \"\n",
    "        f\"Is this simulatable? {bool(mymodel.check_simulatable_factor(key))}.\"\n",
    "    )\n",
    "# Check all factors collectively.\n",
    "print(\n",
    "    f\"Is the specified model simulatable? {bool(mymodel.check_simulatable_factors())}.\"\n",
    ")"
   ]
  },
  {
   "cell_type": "code",
   "execution_count": null,
   "id": "6",
   "metadata": {},
   "outputs": [],
   "source": [
    "# Create a list of RNG objects for the simulation model to use when\n",
    "# running replications.\n",
    "\n",
    "from mrg32k3a.mrg32k3a import MRG32k3a\n",
    "\n",
    "rng_list = [MRG32k3a(s_ss_sss_index=[0, ss, 0]) for ss in range(mymodel.n_rngs)]"
   ]
  },
  {
   "cell_type": "code",
   "execution_count": null,
   "id": "7",
   "metadata": {},
   "outputs": [],
   "source": [
    "# Run a single replication of the model.\n",
    "responses, gradients = mymodel.replicate(rng_list)\n",
    "print(\"\\nFor a single replication:\")\n",
    "print(\"\\nResponses:\")\n",
    "for key, value in responses.items():\n",
    "    print(f\"\\t {key} is {value}.\")\n",
    "print(\"\\n Gradients:\")\n",
    "for outerkey in gradients:\n",
    "    print(f\"\\tFor the response {outerkey}:\")\n",
    "    for innerkey, value in gradients[outerkey].items():\n",
    "        print(f\"\\t\\tThe gradient w.r.t. {innerkey} is {value}.\")"
   ]
  }
 ],
 "metadata": {
  "kernelspec": {
   "display_name": "simopt",
   "language": "python",
   "name": "python3"
  },
  "language_info": {
   "codemirror_mode": {
    "name": "ipython",
    "version": 3
   },
   "file_extension": ".py",
   "mimetype": "text/x-python",
   "name": "python",
   "nbconvert_exporter": "python",
   "pygments_lexer": "ipython3",
   "version": "3.13.2"
  }
 },
 "nbformat": 4,
 "nbformat_minor": 5
}
