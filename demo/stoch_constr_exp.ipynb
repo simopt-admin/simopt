{
 "cells": [
  {
   "cell_type": "code",
   "execution_count": 18,
   "id": "3b44335b",
   "metadata": {},
   "outputs": [],
   "source": [
    "import sys\n",
    "import os.path as o\n",
    "import numpy as np\n",
    "import os\n",
    "import cdd\n",
    "import cvxpy as cp\n",
    "import random\n",
    "\n",
    "import matplotlib.pyplot as plt\n",
    "from matplotlib import patheffects\n",
    "from matplotlib import cm\n",
    "from mpl_toolkits.mplot3d import axes3d\n",
    "\n",
    "from mrg32k3a.mrg32k3a import MRG32k3a\n",
    "\n",
    "from simopt.experiment_base import ProblemSolver, read_experiment_results, post_normalize, plot_progress_curves, plot_solvability_cdfs, plot_area_scatterplots\n",
    "\n",
    "rng = MRG32k3a()"
   ]
  },
  {
   "cell_type": "code",
   "execution_count": 19,
   "id": "6f2fa2df",
   "metadata": {},
   "outputs": [],
   "source": [
    "csa_name = \"CSA_LP\"\n",
    "problem_name = \"exp\"\n",
    "file_name_path = #your file path\n",
    "csa_file_path = file_name_path + csa_name + \"_on_\" + problem_name + \".pickle\""
   ]
  },
  {
   "cell_type": "code",
   "execution_count": 20,
   "id": "ff686431",
   "metadata": {},
   "outputs": [],
   "source": [
    "from simopt.models import *\n",
    "from simopt.solvers import csa_lp"
   ]
  },
  {
   "cell_type": "code",
   "execution_count": 21,
   "id": "6934f77d",
   "metadata": {},
   "outputs": [],
   "source": [
    "problem_factors = {\n",
    "    \"initial_solution\":13*(10,),\n",
    "    \"budget\":7000,\n",
    "    \"constraint_nodes\":[3,8], # you can add more nodes here, the length of the list = #constraints\n",
    "    \"max_length_to_node\":[60,50] #same length as constraint_nodes above\n",
    "}\n",
    "\n",
    "#san_model = stoch_san.stochSAN()\n",
    "san_problem = stoch_san.SANLongestPathStochastic(fixed_factors = problem_factors)\n",
    "\n",
    "san_problem.upper_bounds = 13*(10,)\n",
    "san_problem.lower_bounds = 13*(0.1,)\n",
    "\n",
    "#here, Ci, di,Ce,de are None, you may define them using\n",
    "#san_problem.Ci = .....\n",
    "#Here, lower bounds and upper bounds are added for box constraints"
   ]
  },
  {
   "cell_type": "code",
   "execution_count": 22,
   "id": "0ca8aecd",
   "metadata": {},
   "outputs": [],
   "source": [
    "experiments = []\n",
    "#this is an example, you may change any parameters you want\n",
    "csa_factors = {'tolerance':0.01} \n",
    "name = 'csa_lp'\n",
    "\n",
    "exp = ProblemSolver(solver_name=csa_name, \n",
    "                      solver_rename = name,\n",
    "                     problem=san_problem,\n",
    "                     solver_fixed_factors=csa_factors, \n",
    "                     file_name_path = csa_file_path)\n",
    "\n",
    "experiments.append(exp)"
   ]
  },
  {
   "cell_type": "code",
   "execution_count": 23,
   "id": "7857102d",
   "metadata": {},
   "outputs": [],
   "source": [
    "for e in experiments:\n",
    "    #print(\"************************\")\n",
    "    #print(e.solver.name)\n",
    "    #print(\"************************\")\n",
    "    e.run(n_macroreps=1)\n",
    "    e.post_replicate(n_postreps=10)\n",
    "    #print(\"------------------\")\n",
    "\n",
    "post_normalize(experiments, n_postreps_init_opt=10)"
   ]
  },
  {
   "cell_type": "code",
   "execution_count": 24,
   "id": "9f3c09d1",
   "metadata": {},
   "outputs": [
    {
     "data": {
      "text/plain": [
       "['/Users/boomts59/Downloads/simopt-python_dev_joe/experiments/outputs/00Try/plots/SOLVER_SET_on_SAN-2_mean_prog_curve_unnorm.png']"
      ]
     },
     "execution_count": 24,
     "metadata": {},
     "output_type": "execute_result"
    },
    {
     "data": {
      "image/png": "[encoded data removed]",
      "text/plain": [
       "<Figure size 432x288 with 1 Axes>"
      ]
     },
     "metadata": {
      "needs_background": "light"
     },
     "output_type": "display_data"
    }
   ],
   "source": [
    "plot_progress_curves(experiments=experiments, plot_type=\"mean\", normalize=False)"
   ]
  },
  {
   "cell_type": "code",
   "execution_count": null,
   "id": "6aaa35e6",
   "metadata": {},
   "outputs": [],
   "source": []
  }
 ],
 "metadata": {
  "kernelspec": {
   "display_name": "Python 3 (ipykernel)",
   "language": "python",
   "name": "python3"
  },
  "language_info": {
   "codemirror_mode": {
    "name": "ipython",
    "version": 3
   },
   "file_extension": ".py",
   "mimetype": "text/x-python",
   "name": "python",
   "nbconvert_exporter": "python",
   "pygments_lexer": "ipython3",
   "version": "3.9.12"
  }
 },
 "nbformat": 4,
 "nbformat_minor": 5
}
