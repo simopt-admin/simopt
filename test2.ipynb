{
 "cells": [
  {
   "cell_type": "code",
   "execution_count": 1,
   "id": "228968e8-24c4-4224-a418-003a26ecde8d",
   "metadata": {},
   "outputs": [],
   "source": [
    "%load_ext autoreload\n",
    "%autoreload 2"
   ]
  },
  {
   "cell_type": "code",
   "execution_count": 2,
   "id": "e5fdc1e7-d902-4d5d-a1ee-ab67e13f68ae",
   "metadata": {},
   "outputs": [
    {
     "name": "stdout",
     "output_type": "stream",
     "text": [
      "env: MRG32K3A_BACKEND=rust\n"
     ]
    }
   ],
   "source": [
    "%set_env MRG32K3A_BACKEND=rust"
   ]
  },
  {
   "cell_type": "code",
   "execution_count": 15,
   "id": "2ab33f02-0070-49c0-ab1f-907d26af1080",
   "metadata": {},
   "outputs": [],
   "source": [
    "import pickle\n",
    "\n",
    "from simopt.experiment_base import (\n",
    "    ProblemSolver,\n",
    "    post_normalize,\n",
    ")"
   ]
  },
  {
   "cell_type": "code",
   "execution_count": 4,
   "id": "c9c8d14c-2712-4290-a6f9-e3e360db71bd",
   "metadata": {
    "scrolled": true
   },
   "outputs": [],
   "source": [
    "from simopt.models.san import SANLongestPathStochastic\n",
    "from simopt.solvers.fcsa import FCSA"
   ]
  },
  {
   "cell_type": "code",
   "execution_count": 5,
   "id": "3795eb6b-be3f-4192-a218-624f26eb5514",
   "metadata": {},
   "outputs": [],
   "source": [
    "# initialize problem\n",
    "initial = (5,) * 13  # starting mean for each arc\n",
    "constraint_nodes = [6, 8]  # nodes with corresponding stochastic constraints\n",
    "max_length_to_node = [5, 5]  # max expected length to each constraint node\n",
    "budget = 2000  # number of simmulation replications ran by solver\n",
    "problem_factors = {\n",
    "    \"constraint_nodes\": constraint_nodes,\n",
    "    \"length_to_node_constraint\": max_length_to_node,\n",
    "    \"initial_solution\": initial,\n",
    "    \"budget\": budget,\n",
    "}\n",
    "problem = SANLongestPathStochastic(fixed_factors=problem_factors)"
   ]
  },
  {
   "cell_type": "code",
   "execution_count": 6,
   "id": "30a2d9ec-785e-44d8-90a6-c68f4759e8e3",
   "metadata": {},
   "outputs": [],
   "source": [
    "# initialize solvers\n",
    "csa_factors = {\n",
    "    \"search_direction\": \"CSA\",\n",
    "    \"normalize_grads\": False,\n",
    "    \"report_all_solns\": True,\n",
    "    \"crn_across_solns\": False,\n",
    "}\n",
    "csa = FCSA(fixed_factors=csa_factors, name=\"CSA\")\n",
    "csa_n_factors = {\n",
    "    \"search_direction\": \"CSA\",\n",
    "    \"normalize_grads\": True,\n",
    "    \"report_all_solns\": True,\n",
    "    \"crn_across_solns\": False,\n",
    "}\n",
    "csa_n = FCSA(fixed_factors=csa_n_factors, name=\"CSA-N\")\n",
    "fcsa_factors = {\n",
    "    \"search_direction\": \"FCSA\",\n",
    "    \"normalize_grads\": True,\n",
    "    \"report_all_solns\": True,\n",
    "    \"crn_across_solns\": False,\n",
    "}\n",
    "fcsa = FCSA(fixed_factors=fcsa_factors, name=\"FCSA\")\n",
    "solvers = [csa, csa_n, fcsa]"
   ]
  },
  {
   "cell_type": "code",
   "execution_count": 7,
   "id": "5f699a65-c580-4ef4-8a0e-09f60d0898ff",
   "metadata": {},
   "outputs": [],
   "source": [
    "e1 = ProblemSolver(solver=csa, problem=problem)\n",
    "e2 = ProblemSolver(solver=csa_n, problem=problem)\n",
    "e3 = ProblemSolver(solver=fcsa, problem=problem)\n",
    "\n",
    "e1.run(n_macroreps=10)\n",
    "e2.run(n_macroreps=10)\n",
    "e3.run(n_macroreps=10)\n",
    "\n",
    "e1.post_replicate(n_postreps=100)\n",
    "e2.post_replicate(n_postreps=100)\n",
    "e3.post_replicate(n_postreps=100)\n",
    "\n",
    "post_normalize([e1, e2, e3], 100)"
   ]
  },
  {
   "cell_type": "code",
   "execution_count": 16,
   "id": "89e9f669-fd32-424b-9e51-be6acc343434",
   "metadata": {},
   "outputs": [],
   "source": [
    "with open(\"test-data-2.pkl\", \"wb\") as f:\n",
    "    pickle.dump([e1, e2, e3], f)"
   ]
  }
 ],
 "metadata": {
  "jupytext": {
   "formats": "ipynb,py:percent"
  },
  "kernelspec": {
   "display_name": "Python 3 (ipykernel)",
   "language": "python",
   "name": "python3"
  },
  "language_info": {
   "codemirror_mode": {
    "name": "ipython",
    "version": 3
   },
   "file_extension": ".py",
   "mimetype": "text/x-python",
   "name": "python",
   "nbconvert_exporter": "python",
   "pygments_lexer": "ipython3",
   "version": "3.13.6"
  }
 },
 "nbformat": 4,
 "nbformat_minor": 5
}
